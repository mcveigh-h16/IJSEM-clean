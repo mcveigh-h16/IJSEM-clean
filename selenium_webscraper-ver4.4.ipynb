{
 "cells": [
  {
   "cell_type": "markdown",
   "id": "8e64154f",
   "metadata": {},
   "source": [
    "### Webscraper for extracting newly published names, strains and accession numbers from the weeekly IJSEM email (saved in html). Script then compares the IJSEM names to the NCBI names and generates a report used for taxonomy updates. \n",
    "### Uses Natural Language processing combined with REGEX to extract information from text\n",
    "### Notes on selenium. There is a lot of bad advise in stack overflow that refers to old versions of selenium. Need to refer to the offocial documentation https://selenium-python.readthedocs.io/ If you run out of space in your linux directory the script will crash. There is a cache file written by selenium that may then need to be deleted to get the chrome driver working again. Follow the path in the error message and delete that cache directory. Selenium needs a webdriver installed, find details at https://sites.google.com/chromium.org/driver/downloads\n",
    "\n",
    "### NOTE selenium cache files are quite large and need to be cleaned up periodically"
   ]
  },
  {
   "cell_type": "code",
   "execution_count": null,
   "id": "4657a12a",
   "metadata": {},
   "outputs": [],
   "source": [
    "pip install \"numpy<2.0\" "
   ]
  },
  {
   "cell_type": "code",
   "execution_count": null,
   "id": "b0568a50",
   "metadata": {},
   "outputs": [],
   "source": [
    "pip install spacy\n",
    "#pip install -U pip setuptools wheel\n",
    "#pip install -U spacy\n",
    "#pip install --upgrade spacy"
   ]
  },
  {
   "cell_type": "markdown",
   "id": "ec33dae7",
   "metadata": {},
   "source": [
    "### Install the model at the command lines\n",
    "small model\n",
    "python -m spacy download en_core_web_sm\n",
    "\n",
    "medium model\n",
    "python -m spacy download en_core_web_md\n",
    "\n",
    "large model\n",
    "python -m spacy download en_core_web_lg"
   ]
  },
  {
   "cell_type": "markdown",
   "id": "18c910a4",
   "metadata": {},
   "source": [
    "### create training set https://spacy.io/usage/training\n",
    "\n",
    "This annotator works better https://agateteam.org/spacynerannotate/ combined with the DocBin code to create the .spacy file. \n",
    "\n",
    "https://spacy.io/usage/training#quickstart\n",
    "\n",
    "python -m spacy init fill-config ./base_config.cfg ./config.cfg\n",
    "\n",
    "This NER annotator worked better than the one above. Used the DocBin technique to convert to .spacy file. Spacy training command with config.cfg then worked.\n",
    "\n",
    "Config.cfg needs to be created for the spacy command line training. \n",
    "\n",
    "Follow the instructions in the quickstart for the base_config.cfg file. Selected OS and clicked NER\n",
    "\n",
    "https://spacy.io/usage/training#quickstart\n",
    "\n",
    "Run the following at command line to create the config.cfg. \n",
    "\n",
    "python -m spacy init fill-config ./base_config.cfg ./config.cfg\n",
    "\n",
    "Once the config file was done and spacy file was created run the following at command line to train the model\n",
    "\n",
    "To debug the data:\n",
    "python -m spacy debug data config.cfg --paths.train ./train.spacy --paths.dev ./train.spacy\n",
    "\n",
    "To debug the config file file:\n",
    "python -m spacy train config.cfg --output ./output\n",
    "\n",
    "or\n",
    "\n",
    "python -m spacy train config.cfg \n",
    "\n",
    "train the model at command line\n",
    "python -m spacy train config.cfg --output ./output --paths.train ./train.spacy --paths.dev ./train.spacy\n",
    "\n",
    "creates two directories model-best and model-last. I used model-best \n",
    "\n",
    "nlp1 = spacy.load(r\"./output/model-best\")\n",
    "\n",
    "\n",
    "Notes\n",
    "python -m spacy init fill-config ./base_config.cfg ./config.cfg\n",
    "\n",
    "python -m spacy train config.cfg --output ./output --paths.train ./train.spacy --paths.dev ./dev.spacy\n",
    "\n",
    "https://spacy.io/usage/training#basics"
   ]
  },
  {
   "cell_type": "code",
   "execution_count": null,
   "id": "1eb1d9ef",
   "metadata": {},
   "outputs": [],
   "source": []
  },
  {
   "cell_type": "markdown",
   "id": "884b2140",
   "metadata": {},
   "source": [
    "### Train spacy if not already done. Using output https://arunmozhi.in/ner-annotator/\n"
   ]
  },
  {
   "cell_type": "code",
   "execution_count": null,
   "id": "0fb2accf",
   "metadata": {},
   "outputs": [],
   "source": [
    "from spacy.tokens import DocBin\n",
    "import pandas as pd\n",
    "import json\n",
    "import os"
   ]
  },
  {
   "cell_type": "markdown",
   "id": "7dcd3654",
   "metadata": {},
   "source": [
    "### train the model at command line\n",
    "python -m spacy train config.cfg --output ./output --paths.train ./train.spacy --paths.dev ./dev.spacy "
   ]
  },
  {
   "cell_type": "markdown",
   "id": "5dfb45c3",
   "metadata": {},
   "source": [
    "### Main webscraper program start\n"
   ]
  },
  {
   "cell_type": "code",
   "execution_count": 8,
   "id": "a58e07e4",
   "metadata": {},
   "outputs": [],
   "source": [
    "import selenium\n",
    "import tempfile\n",
    "from selenium import webdriver\n",
    "from selenium.webdriver.common.by import By\n",
    "chrome_path = \"/home/mcveigh/.cache/selenium/chrome/linux64/138.0.7204.183/chrome\"\n",
    "from selenium.webdriver.chrome.options import Options\n",
    "\n",
    "import time\n",
    "import IPython\n",
    "import pandas as pd\n",
    "import re\n",
    "import os\n",
    "import sys\n",
    "import bs4\n",
    "from bs4 import BeautifulSoup\n",
    "import requests\n",
    "import numpy as np\n",
    "from datetime import datetime\n",
    "from nameparser import HumanName\n",
    "import spacy\n",
    "#nlp = spacy.load(\"en_core_web_sm\")\n",
    "nlp = spacy.load(\"en_core_web_md\")\n",
    "from spacy.matcher import PhraseMatcher\n",
    "from spacy import displacy"
   ]
  },
  {
   "cell_type": "code",
   "execution_count": null,
   "id": "6c8abb98",
   "metadata": {},
   "outputs": [],
   "source": [
    "#test\n",
    "text2 = (\"The type strain is 2205BS29-5T (=LMG 33062T =KACC 23240T), which is isolated from a marine sponge, P. elegans, \"\n",
    "\"collected from Beomseom in Jeju-Island, Republic of Korea.\"\n",
    "\n",
    "\"The DNA G+C content of strain 2205BS29-5T is 67.8%. The GenBank accession numbers for the 16S rRNA gene and\" \n",
    "\"whole-genome sequences of strain 2205BS29-5T are OQ569368 and JAVAMQ000000000, respectively.\")"
   ]
  },
  {
   "cell_type": "code",
   "execution_count": null,
   "id": "3fbfe8be",
   "metadata": {},
   "outputs": [],
   "source": [
    "#test but need this later\n",
    "import IPython\n",
    "nlp1 = spacy.load(r\"./output/model-best\") #load the best model\n",
    "doc = nlp1(text2)\n",
    "from IPython.display import display\n",
    "from spacy import displacy\n",
    "from IPython.core.display import HTML, display\n",
    "displacy.render(doc, style=\"ent\")"
   ]
  },
  {
   "cell_type": "markdown",
   "id": "4a6a4c13",
   "metadata": {},
   "source": [
    "### Find URLS from saved email in html - save as from outlook in htm format. URLs are extracted and saved as input for selenium"
   ]
  },
  {
   "cell_type": "code",
   "execution_count": 2,
   "id": "6136fcf9",
   "metadata": {},
   "outputs": [],
   "source": [
    "input = (r'IJSEMemail56.htm')\n",
    "output = (r'NameCheckweek56a.xlsx')\n",
    "alldescriptions = (r'all_descriptions56a')"
   ]
  },
  {
   "cell_type": "code",
   "execution_count": null,
   "id": "d8a2d86b",
   "metadata": {},
   "outputs": [],
   "source": [
    "#Only need this if you suspect a problem with beautiful soup not imporing the URL list correctly. Otherwise skip this step\n",
    "from bs4.diagnose import diagnose\n",
    "with open (input, encoding = 'unicode_escape') as f:\n",
    "    data = f.read()\n",
    "diagnose(data)"
   ]
  },
  {
   "cell_type": "code",
   "execution_count": 15,
   "id": "58762373",
   "metadata": {},
   "outputs": [],
   "source": []
  },
  {
   "cell_type": "markdown",
   "id": "8c2ca58b-96ca-48f8-8989-7101612b38eb",
   "metadata": {},
   "source": [
    "#### alternative Beautifiul soup code for extracting URLS with autodetect encoding"
   ]
  },
  {
   "cell_type": "code",
   "execution_count": 3,
   "id": "8169ef07",
   "metadata": {},
   "outputs": [
    {
     "name": "stdout",
     "output_type": "stream",
     "text": [
      "Found 10 URLs:\n",
      "http://dx.doi.org/10.1099/ijsem.0.006793\n",
      "http://dx.doi.org/10.1099/ijsem.0.006801\n",
      "http://dx.doi.org/10.1099/ijsem.0.006792\n",
      "http://dx.doi.org/10.1099/ijsem.0.006867\n",
      "http://dx.doi.org/10.1099/ijsem.0.006861\n",
      "http://dx.doi.org/10.1099/ijsem.0.006866\n",
      "http://dx.doi.org/10.1099/ijsem.0.006853\n",
      "http://dx.doi.org/10.1099/ijsem.0.006859\n",
      "http://dx.doi.org/10.1099/ijsem.0.006856\n",
      "http://dx.doi.org/10.1099/ijsem.0.006858\n"
     ]
    }
   ],
   "source": [
    "#alternative Beautifiul soup with autodetect encoding\n",
    "from charset_normalizer import from_path\n",
    "\n",
    "# Auto-detect file encoding\n",
    "result = from_path(input).best()\n",
    "html = str(result)\n",
    "\n",
    "# Parse with BeautifulSoup\n",
    "soup = BeautifulSoup(html, \"html.parser\")\n",
    "text = soup.get_text()\n",
    "\n",
    "# Extract all http/https links\n",
    "urls = re.findall(r\"https?://\\S+\", text)\n",
    "urls = [url.rstrip('.,);') for url in urls]\n",
    "\n",
    "# Filter links as needed\n",
    "filtered_urls = [\n",
    "    url for url in urls\n",
    "    if all(exclude not in url for exclude in [\"TandC\", \"myaccount\", \"join-the-society\"])\n",
    "    # Remove \"doi.org\" from filter if you want article links\n",
    "]\n",
    "\n",
    "if not filtered_urls:\n",
    "    raise ValueError(\"No usable URLs found!\")\n",
    "\n",
    "print(f\"Found {len(filtered_urls)} URLs:\")\n",
    "print(\"\\n\".join(filtered_urls))\n"
   ]
  },
  {
   "cell_type": "code",
   "execution_count": null,
   "id": "f7e20bf4",
   "metadata": {},
   "outputs": [],
   "source": []
  },
  {
   "cell_type": "code",
   "execution_count": 4,
   "id": "f40419a3",
   "metadata": {},
   "outputs": [],
   "source": [
    "def find_strains(description):\n",
    "    \"\"\"Find strains with spacy\"\"\"\n",
    "    #print('Entering strain subroutine')\n",
    "    doc = nlp(description)\n",
    "    nlp1 = spacy.load(r\"./output/model-best\") #load the best model\n",
    "    phrase_matcher = PhraseMatcher(nlp.vocab)\n",
    "    phrases = ['strain', 'Strain', 'strains', 'Strains']\n",
    "    patterns = [nlp(description) for description in phrases]\n",
    "    phrase_matcher.add('STRAIN', None, *patterns)\n",
    "               \n",
    "    for sent in doc.sents:    \n",
    "        for match_id, start, end in phrase_matcher(nlp(sent.text)):\n",
    "            if nlp.vocab.strings[match_id] in [\"STRAIN\"]:\n",
    "                print(sent.text)\n",
    "                doc = nlp1(sent.text)\n",
    "                displacy.render(doc, style=\"ent\")\n",
    "                for entity in doc.ents:\n",
    "                    if entity.text not in strains:\n",
    "                        entity.text.encode('ascii', 'ignore').decode('unicode_escape')\n",
    "                        strains.append(entity.text)\n",
    "    return strains\n",
    "\n",
    "def remove_non_ascii(text):\n",
    "    \"\"\"Remove non-ASCII characters\"\"\"\n",
    "    return ''.join(char for char in text if ord(char) < 128)"
   ]
  },
  {
   "cell_type": "markdown",
   "id": "33443ded",
   "metadata": {},
   "source": [
    "### Main body - Selenium to extract data from html\n",
    "### https://nameparser.readthedocs.io/en/latest/index.html to find the last name"
   ]
  },
  {
   "cell_type": "code",
   "execution_count": 9,
   "id": "22d6f4bf",
   "metadata": {},
   "outputs": [
    {
     "name": "stdout",
     "output_type": "stream",
     "text": [
      "The polyamine pattern of the type strain of the type species NCTC 11411T mainly included 1,3-diaminopropane in addition to small amounts of putrescine and spermidine [6].\n",
      "\n"
     ]
    },
    {
     "data": {
      "text/html": [
       "<span class=\"tex2jax_ignore\"><div class=\"entities\" style=\"line-height: 2.5; direction: ltr\">The polyamine pattern of the type strain of the type species \n",
       "<mark class=\"entity\" style=\"background: #ddd; padding: 0.45em 0.6em; margin: 0 0.25em; line-height: 1; border-radius: 0.35em;\">\n",
       "    NCTC 11411T\n",
       "    <span style=\"font-size: 0.8em; font-weight: bold; line-height: 1; border-radius: 0.35em; vertical-align: middle; margin-left: 0.5rem\">STRAIN</span>\n",
       "</mark>\n",
       " mainly included 1,3-diaminopropane in addition to small amounts of putrescine and spermidine [6].<br></div></span>"
      ],
      "text/plain": [
       "<IPython.core.display.HTML object>"
      ]
     },
     "metadata": {},
     "output_type": "display_data"
    },
    {
     "name": "stdout",
     "output_type": "stream",
     "text": [
      "The G+C content determined by the Tm method was 43.9 mol% for the type strain and 45.3 for strain F74.\n"
     ]
    },
    {
     "data": {
      "text/html": [
       "<span class=\"tex2jax_ignore\"><div class=\"entities\" style=\"line-height: 2.5; direction: ltr\">The G+C content determined by the Tm method was 43.9 mol% for the type strain and 45.3 for strain \n",
       "<mark class=\"entity\" style=\"background: #ddd; padding: 0.45em 0.6em; margin: 0 0.25em; line-height: 1; border-radius: 0.35em;\">\n",
       "    F74\n",
       "    <span style=\"font-size: 0.8em; font-weight: bold; line-height: 1; border-radius: 0.35em; vertical-align: middle; margin-left: 0.5rem\">STRAIN</span>\n",
       "</mark>\n",
       ".</div></span>"
      ],
      "text/plain": [
       "<IPython.core.display.HTML object>"
      ]
     },
     "metadata": {},
     "output_type": "display_data"
    },
    {
     "name": "stdout",
     "output_type": "stream",
     "text": [
      "The G+C content determined by the Tm method was 43.9 mol% for the type strain and 45.3 for strain F74.\n"
     ]
    },
    {
     "data": {
      "text/html": [
       "<span class=\"tex2jax_ignore\"><div class=\"entities\" style=\"line-height: 2.5; direction: ltr\">The G+C content determined by the Tm method was 43.9 mol% for the type strain and 45.3 for strain \n",
       "<mark class=\"entity\" style=\"background: #ddd; padding: 0.45em 0.6em; margin: 0 0.25em; line-height: 1; border-radius: 0.35em;\">\n",
       "    F74\n",
       "    <span style=\"font-size: 0.8em; font-weight: bold; line-height: 1; border-radius: 0.35em; vertical-align: middle; margin-left: 0.5rem\">STRAIN</span>\n",
       "</mark>\n",
       ".</div></span>"
      ],
      "text/plain": [
       "<IPython.core.display.HTML object>"
      ]
     },
     "metadata": {},
     "output_type": "display_data"
    },
    {
     "name": "stdout",
     "output_type": "stream",
     "text": [
      "The G+C content determined from the whole genomic sequence (WGS) was 40.9 for the type strain.\n"
     ]
    },
    {
     "name": "stderr",
     "output_type": "stream",
     "text": [
      "/home/mcveigh/jupweb/lib/python3.11/site-packages/spacy/displacy/__init__.py:213: UserWarning: [W006] No entities to visualize found in Doc object. If this is surprising to you, make sure the Doc was processed using a model that supports named entity recognition, and check the `doc.ents` property manually if necessary.\n",
      "  warnings.warn(Warnings.W006)\n"
     ]
    },
    {
     "data": {
      "text/html": [
       "<span class=\"tex2jax_ignore\"><div class=\"entities\" style=\"line-height: 2.5; direction: ltr\">The G+C content determined from the whole genomic sequence (WGS) was 40.9 for the type strain.</div></span>"
      ],
      "text/plain": [
       "<IPython.core.display.HTML object>"
      ]
     },
     "metadata": {},
     "output_type": "display_data"
    },
    {
     "name": "stdout",
     "output_type": "stream",
     "text": [
      "The genome molecular weights determined by the Tm method were 1.7 and 1.8109 D for the type strain and another strain, respectively.\n"
     ]
    },
    {
     "data": {
      "text/html": [
       "<span class=\"tex2jax_ignore\"><div class=\"entities\" style=\"line-height: 2.5; direction: ltr\">The genome molecular weights determined by the Tm method were 1.7 and 1.8109 D for the type strain and another strain, respectively.</div></span>"
      ],
      "text/plain": [
       "<IPython.core.display.HTML object>"
      ]
     },
     "metadata": {},
     "output_type": "display_data"
    },
    {
     "name": "stdout",
     "output_type": "stream",
     "text": [
      "The genome molecular weights determined by the Tm method were 1.7 and 1.8109 D for the type strain and another strain, respectively.\n"
     ]
    },
    {
     "data": {
      "text/html": [
       "<span class=\"tex2jax_ignore\"><div class=\"entities\" style=\"line-height: 2.5; direction: ltr\">The genome molecular weights determined by the Tm method were 1.7 and 1.8109 D for the type strain and another strain, respectively.</div></span>"
      ],
      "text/plain": [
       "<IPython.core.display.HTML object>"
      ]
     },
     "metadata": {},
     "output_type": "display_data"
    },
    {
     "name": "stdout",
     "output_type": "stream",
     "text": [
      "The length of the genome of the type strain was 1,989,683 nt determined from WGS.\n"
     ]
    },
    {
     "data": {
      "text/html": [
       "<span class=\"tex2jax_ignore\"><div class=\"entities\" style=\"line-height: 2.5; direction: ltr\">The length of the genome of the type strain was 1,989,683 nt determined from WGS.</div></span>"
      ],
      "text/plain": [
       "<IPython.core.display.HTML object>"
      ]
     },
     "metadata": {},
     "output_type": "display_data"
    },
    {
     "name": "stdout",
     "output_type": "stream",
     "text": [
      "The type strain is F73 T (=NCTC 11411T\n"
     ]
    },
    {
     "data": {
      "text/html": [
       "<span class=\"tex2jax_ignore\"><div class=\"entities\" style=\"line-height: 2.5; direction: ltr\">The type strain is \n",
       "<mark class=\"entity\" style=\"background: #ddd; padding: 0.45em 0.6em; margin: 0 0.25em; line-height: 1; border-radius: 0.35em;\">\n",
       "    F73 T\n",
       "    <span style=\"font-size: 0.8em; font-weight: bold; line-height: 1; border-radius: 0.35em; vertical-align: middle; margin-left: 0.5rem\">STRAIN</span>\n",
       "</mark>\n",
       " (=\n",
       "<mark class=\"entity\" style=\"background: #ddd; padding: 0.45em 0.6em; margin: 0 0.25em; line-height: 1; border-radius: 0.35em;\">\n",
       "    NCTC 11411T\n",
       "    <span style=\"font-size: 0.8em; font-weight: bold; line-height: 1; border-radius: 0.35em; vertical-align: middle; margin-left: 0.5rem\">STRAIN</span>\n",
       "</mark>\n",
       "</div></span>"
      ],
      "text/plain": [
       "<IPython.core.display.HTML object>"
      ]
     },
     "metadata": {},
     "output_type": "display_data"
    },
    {
     "name": "stdout",
     "output_type": "stream",
     "text": [
      "The 16S rRNA gene and genomic sequences of the type strain have been deposited under AY362922 (CCUG 15566T) and GCF_003096995.1 (DSM 22999T), respectively.\n",
      " \n"
     ]
    },
    {
     "data": {
      "text/html": [
       "<span class=\"tex2jax_ignore\"><div class=\"entities\" style=\"line-height: 2.5; direction: ltr\">The 16S rRNA gene and genomic sequences of the type strain have been deposited under AY362922 (\n",
       "<mark class=\"entity\" style=\"background: #ddd; padding: 0.45em 0.6em; margin: 0 0.25em; line-height: 1; border-radius: 0.35em;\">\n",
       "    CCUG 15566T\n",
       "    <span style=\"font-size: 0.8em; font-weight: bold; line-height: 1; border-radius: 0.35em; vertical-align: middle; margin-left: 0.5rem\">STRAIN</span>\n",
       "</mark>\n",
       ") and GCF_003096995.1 (\n",
       "<mark class=\"entity\" style=\"background: #ddd; padding: 0.45em 0.6em; margin: 0 0.25em; line-height: 1; border-radius: 0.35em;\">\n",
       "    DSM 22999T\n",
       "    <span style=\"font-size: 0.8em; font-weight: bold; line-height: 1; border-radius: 0.35em; vertical-align: middle; margin-left: 0.5rem\">STRAIN</span>\n",
       "</mark>\n",
       "), respectively.<br> </div></span>"
      ],
      "text/plain": [
       "<IPython.core.display.HTML object>"
      ]
     },
     "metadata": {},
     "output_type": "display_data"
    },
    {
     "name": "stdout",
     "output_type": "stream",
     "text": [
      "Four strains were non-haemolytic, and one strain (18KM583) was haemolytic (Table 3).\n",
      "\n"
     ]
    },
    {
     "name": "stderr",
     "output_type": "stream",
     "text": [
      "/home/mcveigh/jupweb/lib/python3.11/site-packages/spacy/displacy/__init__.py:213: UserWarning: [W006] No entities to visualize found in Doc object. If this is surprising to you, make sure the Doc was processed using a model that supports named entity recognition, and check the `doc.ents` property manually if necessary.\n",
      "  warnings.warn(Warnings.W006)\n"
     ]
    },
    {
     "data": {
      "text/html": [
       "<span class=\"tex2jax_ignore\"><div class=\"entities\" style=\"line-height: 2.5; direction: ltr\">Four strains were non-haemolytic, and one strain (18KM583) was haemolytic (Table 3).<br></div></span>"
      ],
      "text/plain": [
       "<IPython.core.display.HTML object>"
      ]
     },
     "metadata": {},
     "output_type": "display_data"
    },
    {
     "name": "stdout",
     "output_type": "stream",
     "text": [
      "Four strains were non-haemolytic, and one strain (18KM583) was haemolytic (Table 3).\n",
      "\n"
     ]
    },
    {
     "data": {
      "text/html": [
       "<span class=\"tex2jax_ignore\"><div class=\"entities\" style=\"line-height: 2.5; direction: ltr\">Four strains were non-haemolytic, and one strain (18KM583) was haemolytic (Table 3).<br></div></span>"
      ],
      "text/plain": [
       "<IPython.core.display.HTML object>"
      ]
     },
     "metadata": {},
     "output_type": "display_data"
    },
    {
     "name": "stdout",
     "output_type": "stream",
     "text": [
      "The strains were able to grow aerobically and anaerobically at 18C, 37C and 43C, and in BHI broth containing 7%, 9.5% and 12.5% NaCl.\n"
     ]
    },
    {
     "data": {
      "text/html": [
       "<span class=\"tex2jax_ignore\"><div class=\"entities\" style=\"line-height: 2.5; direction: ltr\">The strains were able to grow aerobically and anaerobically at 18C, 37C and 43C, and in BHI broth containing 7%, 9.5% and 12.5% NaCl.</div></span>"
      ],
      "text/plain": [
       "<IPython.core.display.HTML object>"
      ]
     },
     "metadata": {},
     "output_type": "display_data"
    },
    {
     "name": "stdout",
     "output_type": "stream",
     "text": [
      "The strains tested negative for L-pyrrolydonyl-arylamidase, methyl--D-glucopyranoside hydrolysis, -glucosidase, and for acid production from D-mannitol, D-ribose, lactose, D-mannose, D-xylose, and D-maltose.\n"
     ]
    },
    {
     "data": {
      "text/html": [
       "<span class=\"tex2jax_ignore\"><div class=\"entities\" style=\"line-height: 2.5; direction: ltr\">The strains tested negative for L-pyrrolydonyl-arylamidase, methyl--D-glucopyranoside hydrolysis, -glucosidase, and for acid production from D-mannitol, D-ribose, lactose, D-mannose, D-xylose, and D-maltose.</div></span>"
      ],
      "text/plain": [
       "<IPython.core.display.HTML object>"
      ]
     },
     "metadata": {},
     "output_type": "display_data"
    },
    {
     "name": "stdout",
     "output_type": "stream",
     "text": [
      "The strains were negative for leucine aminopeptidase, alanine arylamidase, and L-aspartate arylamidase, whereas tyrosine deaminase activity was variable.\n"
     ]
    },
    {
     "data": {
      "text/html": [
       "<span class=\"tex2jax_ignore\"><div class=\"entities\" style=\"line-height: 2.5; direction: ltr\">The strains were negative for leucine aminopeptidase, alanine arylamidase, and L-aspartate arylamidase, whereas tyrosine deaminase activity was variable.</div></span>"
      ],
      "text/plain": [
       "<IPython.core.display.HTML object>"
      ]
     },
     "metadata": {},
     "output_type": "display_data"
    },
    {
     "name": "stdout",
     "output_type": "stream",
     "text": [
      "The designated type strain is 18KM445 (=DSM 118744; =CCOS 2124;\n"
     ]
    },
    {
     "data": {
      "text/html": [
       "<span class=\"tex2jax_ignore\"><div class=\"entities\" style=\"line-height: 2.5; direction: ltr\">The designated type strain is \n",
       "<mark class=\"entity\" style=\"background: #ddd; padding: 0.45em 0.6em; margin: 0 0.25em; line-height: 1; border-radius: 0.35em;\">\n",
       "    18KM445\n",
       "    <span style=\"font-size: 0.8em; font-weight: bold; line-height: 1; border-radius: 0.35em; vertical-align: middle; margin-left: 0.5rem\">STRAIN</span>\n",
       "</mark>\n",
       " (=\n",
       "<mark class=\"entity\" style=\"background: #ddd; padding: 0.45em 0.6em; margin: 0 0.25em; line-height: 1; border-radius: 0.35em;\">\n",
       "    DSM 118744\n",
       "    <span style=\"font-size: 0.8em; font-weight: bold; line-height: 1; border-radius: 0.35em; vertical-align: middle; margin-left: 0.5rem\">STRAIN</span>\n",
       "</mark>\n",
       "; =\n",
       "<mark class=\"entity\" style=\"background: #ddd; padding: 0.45em 0.6em; margin: 0 0.25em; line-height: 1; border-radius: 0.35em;\">\n",
       "    CCOS 2124\n",
       "    <span style=\"font-size: 0.8em; font-weight: bold; line-height: 1; border-radius: 0.35em; vertical-align: middle; margin-left: 0.5rem\">STRAIN</span>\n",
       "</mark>\n",
       ";</div></span>"
      ],
      "text/plain": [
       "<IPython.core.display.HTML object>"
      ]
     },
     "metadata": {},
     "output_type": "display_data"
    },
    {
     "name": "stdout",
     "output_type": "stream",
     "text": [
      "Complete genome sequences for strains 18KM445T, 18KM444, 18KM245, 18KM583 and 21KM1573 have been deposited in GenBank under accession numbers CP179735, CP179734, CP179731, CP179736 and CP179732, respectively.\n",
      " \n"
     ]
    },
    {
     "data": {
      "text/html": [
       "<span class=\"tex2jax_ignore\"><div class=\"entities\" style=\"line-height: 2.5; direction: ltr\">Complete genome sequences for strains \n",
       "<mark class=\"entity\" style=\"background: #ddd; padding: 0.45em 0.6em; margin: 0 0.25em; line-height: 1; border-radius: 0.35em;\">\n",
       "    18KM445T\n",
       "    <span style=\"font-size: 0.8em; font-weight: bold; line-height: 1; border-radius: 0.35em; vertical-align: middle; margin-left: 0.5rem\">STRAIN</span>\n",
       "</mark>\n",
       ", 18KM444, 18KM245, 18KM583 and 21KM1573 have been deposited in GenBank under accession numbers CP179735, CP179734, CP179731, CP179736 and CP179732, respectively.<br> </div></span>"
      ],
      "text/plain": [
       "<IPython.core.display.HTML object>"
      ]
     },
     "metadata": {},
     "output_type": "display_data"
    },
    {
     "name": "stdout",
     "output_type": "stream",
     "text": [
      "The strains grow at 18, 37 and 43C under both aerobic and anaerobic conditions and in brain heart infusion (BHI) broth supplemented with 7.0, 9.5 and 12.5% NaCl.\n"
     ]
    },
    {
     "name": "stderr",
     "output_type": "stream",
     "text": [
      "/home/mcveigh/jupweb/lib/python3.11/site-packages/spacy/displacy/__init__.py:213: UserWarning: [W006] No entities to visualize found in Doc object. If this is surprising to you, make sure the Doc was processed using a model that supports named entity recognition, and check the `doc.ents` property manually if necessary.\n",
      "  warnings.warn(Warnings.W006)\n"
     ]
    },
    {
     "data": {
      "text/html": [
       "<span class=\"tex2jax_ignore\"><div class=\"entities\" style=\"line-height: 2.5; direction: ltr\">The strains grow at 18, 37 and 43C under both aerobic and anaerobic conditions and in brain heart infusion (BHI) broth supplemented with 7.0, 9.5 and 12.5% NaCl.</div></span>"
      ],
      "text/plain": [
       "<IPython.core.display.HTML object>"
      ]
     },
     "metadata": {},
     "output_type": "display_data"
    },
    {
     "name": "stdout",
     "output_type": "stream",
     "text": [
      "The strains produce acid from sucrose, D-ribose and D-glucose, and hydrolyse methyl--D-glucopyranoside.\n"
     ]
    },
    {
     "data": {
      "text/html": [
       "<span class=\"tex2jax_ignore\"><div class=\"entities\" style=\"line-height: 2.5; direction: ltr\">The strains produce acid from sucrose, D-ribose and D-glucose, and hydrolyse methyl--D-glucopyranoside.</div></span>"
      ],
      "text/plain": [
       "<IPython.core.display.HTML object>"
      ]
     },
     "metadata": {},
     "output_type": "display_data"
    },
    {
     "name": "stdout",
     "output_type": "stream",
     "text": [
      "The designated type strain is EM39E (=DSM 118743; =CCOS 2125; =CCM 9439), which was isolated from bovine skin.\n"
     ]
    },
    {
     "data": {
      "text/html": [
       "<span class=\"tex2jax_ignore\"><div class=\"entities\" style=\"line-height: 2.5; direction: ltr\">The designated type strain is \n",
       "<mark class=\"entity\" style=\"background: #ddd; padding: 0.45em 0.6em; margin: 0 0.25em; line-height: 1; border-radius: 0.35em;\">\n",
       "    EM39E\n",
       "    <span style=\"font-size: 0.8em; font-weight: bold; line-height: 1; border-radius: 0.35em; vertical-align: middle; margin-left: 0.5rem\">STRAIN</span>\n",
       "</mark>\n",
       " (=\n",
       "<mark class=\"entity\" style=\"background: #ddd; padding: 0.45em 0.6em; margin: 0 0.25em; line-height: 1; border-radius: 0.35em;\">\n",
       "    DSM 118743\n",
       "    <span style=\"font-size: 0.8em; font-weight: bold; line-height: 1; border-radius: 0.35em; vertical-align: middle; margin-left: 0.5rem\">STRAIN</span>\n",
       "</mark>\n",
       "; =\n",
       "<mark class=\"entity\" style=\"background: #ddd; padding: 0.45em 0.6em; margin: 0 0.25em; line-height: 1; border-radius: 0.35em;\">\n",
       "    CCOS 2125\n",
       "    <span style=\"font-size: 0.8em; font-weight: bold; line-height: 1; border-radius: 0.35em; vertical-align: middle; margin-left: 0.5rem\">STRAIN</span>\n",
       "</mark>\n",
       "; =\n",
       "<mark class=\"entity\" style=\"background: #ddd; padding: 0.45em 0.6em; margin: 0 0.25em; line-height: 1; border-radius: 0.35em;\">\n",
       "    CCM 9439\n",
       "    <span style=\"font-size: 0.8em; font-weight: bold; line-height: 1; border-radius: 0.35em; vertical-align: middle; margin-left: 0.5rem\">STRAIN</span>\n",
       "</mark>\n",
       "), which was isolated from bovine skin.</div></span>"
      ],
      "text/plain": [
       "<IPython.core.display.HTML object>"
      ]
     },
     "metadata": {},
     "output_type": "display_data"
    },
    {
     "name": "stdout",
     "output_type": "stream",
     "text": [
      "Additional strains of this species were obtained from the skin of healthy pigs and horses, as well as from bovine mastitis milk.\n"
     ]
    },
    {
     "data": {
      "text/html": [
       "<span class=\"tex2jax_ignore\"><div class=\"entities\" style=\"line-height: 2.5; direction: ltr\">Additional strains of this species were obtained from the skin of healthy pigs and horses, as well as from bovine mastitis milk.</div></span>"
      ],
      "text/plain": [
       "<IPython.core.display.HTML object>"
      ]
     },
     "metadata": {},
     "output_type": "display_data"
    },
    {
     "name": "stdout",
     "output_type": "stream",
     "text": [
      "Complete genome sequences for strains JEK85, EM39E, 18KM676 and 21M1142 have been deposited in GenBank under accession numbers CP179725, CP179727, CP179728 and CP179724, respectively.\n",
      " \n"
     ]
    },
    {
     "data": {
      "text/html": [
       "<span class=\"tex2jax_ignore\"><div class=\"entities\" style=\"line-height: 2.5; direction: ltr\">Complete genome sequences for strains \n",
       "<mark class=\"entity\" style=\"background: #ddd; padding: 0.45em 0.6em; margin: 0 0.25em; line-height: 1; border-radius: 0.35em;\">\n",
       "    JEK85\n",
       "    <span style=\"font-size: 0.8em; font-weight: bold; line-height: 1; border-radius: 0.35em; vertical-align: middle; margin-left: 0.5rem\">STRAIN</span>\n",
       "</mark>\n",
       ", EM39E, 18KM676 and 21M1142 have been deposited in GenBank under accession numbers CP179725, CP179727, CP179728 and CP179724, respectively.<br> </div></span>"
      ],
      "text/plain": [
       "<IPython.core.display.HTML object>"
      ]
     },
     "metadata": {},
     "output_type": "display_data"
    },
    {
     "name": "stderr",
     "output_type": "stream",
     "text": [
      "/tmp/ipykernel_834476/4176502962.py:141: DeprecationWarning: Call to deprecated method findAll. (Replaced by find_all) -- Deprecated since version 4.0.0.\n",
      "  spans = soup.findAll('span', attrs = {'class' : 'tl-lowest-section'})\n"
     ]
    },
    {
     "name": "stdout",
     "output_type": "stream",
     "text": [
      "The strains could not grow with 15% (w/v) NaCl. Oxidase- and catalase-positive.\n"
     ]
    },
    {
     "name": "stderr",
     "output_type": "stream",
     "text": [
      "/home/mcveigh/jupweb/lib/python3.11/site-packages/spacy/displacy/__init__.py:213: UserWarning: [W006] No entities to visualize found in Doc object. If this is surprising to you, make sure the Doc was processed using a model that supports named entity recognition, and check the `doc.ents` property manually if necessary.\n",
      "  warnings.warn(Warnings.W006)\n"
     ]
    },
    {
     "data": {
      "text/html": [
       "<span class=\"tex2jax_ignore\"><div class=\"entities\" style=\"line-height: 2.5; direction: ltr\">The strains could not grow with 15% (w/v) NaCl. Oxidase- and catalase-positive.</div></span>"
      ],
      "text/plain": [
       "<IPython.core.display.HTML object>"
      ]
     },
     "metadata": {},
     "output_type": "display_data"
    },
    {
     "name": "stdout",
     "output_type": "stream",
     "text": [
      "The type strain, PA1-206BT (=DSM 115559T=NCAIM B.02680T), was isolated from the wound exudate of a tree (Populus fremontii) in the Sonoran Desert (USA).\n"
     ]
    },
    {
     "data": {
      "text/html": [
       "<span class=\"tex2jax_ignore\"><div class=\"entities\" style=\"line-height: 2.5; direction: ltr\">The type strain, \n",
       "<mark class=\"entity\" style=\"background: #ddd; padding: 0.45em 0.6em; margin: 0 0.25em; line-height: 1; border-radius: 0.35em;\">\n",
       "    PA1-206BT\n",
       "    <span style=\"font-size: 0.8em; font-weight: bold; line-height: 1; border-radius: 0.35em; vertical-align: middle; margin-left: 0.5rem\">STRAIN</span>\n",
       "</mark>\n",
       " (=\n",
       "<mark class=\"entity\" style=\"background: #ddd; padding: 0.45em 0.6em; margin: 0 0.25em; line-height: 1; border-radius: 0.35em;\">\n",
       "    DSM 115559T\n",
       "    <span style=\"font-size: 0.8em; font-weight: bold; line-height: 1; border-radius: 0.35em; vertical-align: middle; margin-left: 0.5rem\">STRAIN</span>\n",
       "</mark>\n",
       "=\n",
       "<mark class=\"entity\" style=\"background: #ddd; padding: 0.45em 0.6em; margin: 0 0.25em; line-height: 1; border-radius: 0.35em;\">\n",
       "    NCAIM B.02680T\n",
       "    <span style=\"font-size: 0.8em; font-weight: bold; line-height: 1; border-radius: 0.35em; vertical-align: middle; margin-left: 0.5rem\">STRAIN</span>\n",
       "</mark>\n",
       "), was isolated from the wound exudate of a tree (Populus fremontii) in the Sonoran Desert (USA).</div></span>"
      ],
      "text/plain": [
       "<IPython.core.display.HTML object>"
      ]
     },
     "metadata": {},
     "output_type": "display_data"
    },
    {
     "name": "stdout",
     "output_type": "stream",
     "text": [
      "The GenBank accession number for the 16S rRNA gene sequence of strain PA1-206BT is OP709268.\n"
     ]
    },
    {
     "data": {
      "text/html": [
       "<span class=\"tex2jax_ignore\"><div class=\"entities\" style=\"line-height: 2.5; direction: ltr\">The GenBank accession number for the 16S rRNA gene sequence of strain \n",
       "<mark class=\"entity\" style=\"background: #ddd; padding: 0.45em 0.6em; margin: 0 0.25em; line-height: 1; border-radius: 0.35em;\">\n",
       "    PA1-206BT\n",
       "    <span style=\"font-size: 0.8em; font-weight: bold; line-height: 1; border-radius: 0.35em; vertical-align: middle; margin-left: 0.5rem\">STRAIN</span>\n",
       "</mark>\n",
       " is OP709268.</div></span>"
      ],
      "text/plain": [
       "<IPython.core.display.HTML object>"
      ]
     },
     "metadata": {},
     "output_type": "display_data"
    },
    {
     "name": "stdout",
     "output_type": "stream",
     "text": [
      "The Whole-Genome Shotgun project of strain PA1-206BT has been deposited at DDBJ/ENA/GenBank under accession JBEFZE000000000.\n"
     ]
    },
    {
     "data": {
      "text/html": [
       "<span class=\"tex2jax_ignore\"><div class=\"entities\" style=\"line-height: 2.5; direction: ltr\">The Whole-Genome Shotgun project of strain \n",
       "<mark class=\"entity\" style=\"background: #ddd; padding: 0.45em 0.6em; margin: 0 0.25em; line-height: 1; border-radius: 0.35em;\">\n",
       "    PA1-206BT\n",
       "    <span style=\"font-size: 0.8em; font-weight: bold; line-height: 1; border-radius: 0.35em; vertical-align: middle; margin-left: 0.5rem\">STRAIN</span>\n",
       "</mark>\n",
       " has been deposited at DDBJ/ENA/GenBank under accession JBEFZE000000000.</div></span>"
      ],
      "text/plain": [
       "<IPython.core.display.HTML object>"
      ]
     },
     "metadata": {},
     "output_type": "display_data"
    },
    {
     "name": "stdout",
     "output_type": "stream",
     "text": [
      "adj. antarcticus, southern, of the Antarctic, pertaining to Antarctica, the geographical origin from which the type strain was first isolated).\n",
      "\n"
     ]
    },
    {
     "name": "stderr",
     "output_type": "stream",
     "text": [
      "/home/mcveigh/jupweb/lib/python3.11/site-packages/spacy/displacy/__init__.py:213: UserWarning: [W006] No entities to visualize found in Doc object. If this is surprising to you, make sure the Doc was processed using a model that supports named entity recognition, and check the `doc.ents` property manually if necessary.\n",
      "  warnings.warn(Warnings.W006)\n"
     ]
    },
    {
     "data": {
      "text/html": [
       "<span class=\"tex2jax_ignore\"><div class=\"entities\" style=\"line-height: 2.5; direction: ltr\">adj. antarcticus, southern, of the Antarctic, pertaining to Antarctica, the geographical origin from which the type strain was first isolated).<br></div></span>"
      ],
      "text/plain": [
       "<IPython.core.display.HTML object>"
      ]
     },
     "metadata": {},
     "output_type": "display_data"
    },
    {
     "name": "stdout",
     "output_type": "stream",
     "text": [
      "The type strain H27-S2T (=DSM 114983T=CGMCC 4.7867T) was isolated from a soil sample collected in Horseshoe Island, Antarctica.\n"
     ]
    },
    {
     "data": {
      "text/html": [
       "<span class=\"tex2jax_ignore\"><div class=\"entities\" style=\"line-height: 2.5; direction: ltr\">The type strain \n",
       "<mark class=\"entity\" style=\"background: #ddd; padding: 0.45em 0.6em; margin: 0 0.25em; line-height: 1; border-radius: 0.35em;\">\n",
       "    H27-S2T\n",
       "    <span style=\"font-size: 0.8em; font-weight: bold; line-height: 1; border-radius: 0.35em; vertical-align: middle; margin-left: 0.5rem\">STRAIN</span>\n",
       "</mark>\n",
       " (=\n",
       "<mark class=\"entity\" style=\"background: #ddd; padding: 0.45em 0.6em; margin: 0 0.25em; line-height: 1; border-radius: 0.35em;\">\n",
       "    DSM 114983T\n",
       "    <span style=\"font-size: 0.8em; font-weight: bold; line-height: 1; border-radius: 0.35em; vertical-align: middle; margin-left: 0.5rem\">STRAIN</span>\n",
       "</mark>\n",
       "=\n",
       "<mark class=\"entity\" style=\"background: #ddd; padding: 0.45em 0.6em; margin: 0 0.25em; line-height: 1; border-radius: 0.35em;\">\n",
       "    CGMCC 4.7867T\n",
       "    <span style=\"font-size: 0.8em; font-weight: bold; line-height: 1; border-radius: 0.35em; vertical-align: middle; margin-left: 0.5rem\">STRAIN</span>\n",
       "</mark>\n",
       ") was isolated from a soil sample collected in Horseshoe Island, Antarctica.</div></span>"
      ],
      "text/plain": [
       "<IPython.core.display.HTML object>"
      ]
     },
     "metadata": {},
     "output_type": "display_data"
    },
    {
     "name": "stdout",
     "output_type": "stream",
     "text": [
      "The genome size of the type strain is 8.5 Mbp, and the DNA G+C content is 72.3mol%.\n"
     ]
    },
    {
     "data": {
      "text/html": [
       "<span class=\"tex2jax_ignore\"><div class=\"entities\" style=\"line-height: 2.5; direction: ltr\">The genome size of the type strain is \n",
       "<mark class=\"entity\" style=\"background: #ddd; padding: 0.45em 0.6em; margin: 0 0.25em; line-height: 1; border-radius: 0.35em;\">\n",
       "    8.5 Mbp\n",
       "    <span style=\"font-size: 0.8em; font-weight: bold; line-height: 1; border-radius: 0.35em; vertical-align: middle; margin-left: 0.5rem\">STRAIN</span>\n",
       "</mark>\n",
       ", and the DNA G+C content is 72.3mol%.</div></span>"
      ],
      "text/plain": [
       "<IPython.core.display.HTML object>"
      ]
     },
     "metadata": {},
     "output_type": "display_data"
    },
    {
     "name": "stdout",
     "output_type": "stream",
     "text": [
      "The GenBank accession numbers assigned to the 16S rRNA gene sequence and the draft genome sequence of strain H27-S2T are OP093992 and JAPNLM000000000, respectively.\n",
      " \n"
     ]
    },
    {
     "data": {
      "text/html": [
       "<span class=\"tex2jax_ignore\"><div class=\"entities\" style=\"line-height: 2.5; direction: ltr\">The GenBank accession numbers assigned to the 16S rRNA gene sequence and the draft genome sequence of strain \n",
       "<mark class=\"entity\" style=\"background: #ddd; padding: 0.45em 0.6em; margin: 0 0.25em; line-height: 1; border-radius: 0.35em;\">\n",
       "    H27-S2T\n",
       "    <span style=\"font-size: 0.8em; font-weight: bold; line-height: 1; border-radius: 0.35em; vertical-align: middle; margin-left: 0.5rem\">STRAIN</span>\n",
       "</mark>\n",
       " are OP093992 and JAPNLM000000000, respectively.<br> </div></span>"
      ],
      "text/plain": [
       "<IPython.core.display.HTML object>"
      ]
     },
     "metadata": {},
     "output_type": "display_data"
    },
    {
     "name": "stdout",
     "output_type": "stream",
     "text": [
      "The polar lipids that strain W635T contains are PC, PE, PG, PL1 and L1L4.\n"
     ]
    },
    {
     "data": {
      "text/html": [
       "<span class=\"tex2jax_ignore\"><div class=\"entities\" style=\"line-height: 2.5; direction: ltr\">The polar lipids that strain \n",
       "<mark class=\"entity\" style=\"background: #ddd; padding: 0.45em 0.6em; margin: 0 0.25em; line-height: 1; border-radius: 0.35em;\">\n",
       "    W635T\n",
       "    <span style=\"font-size: 0.8em; font-weight: bold; line-height: 1; border-radius: 0.35em; vertical-align: middle; margin-left: 0.5rem\">STRAIN</span>\n",
       "</mark>\n",
       " contains are PC, PE, PG, PL1 and L1L4.</div></span>"
      ],
      "text/plain": [
       "<IPython.core.display.HTML object>"
      ]
     },
     "metadata": {},
     "output_type": "display_data"
    },
    {
     "name": "stdout",
     "output_type": "stream",
     "text": [
      "Strain W635T was positive in VogesProskauer reaction, hydrolysis of esculin, gelatin, Tween 80 and xanthine.\n"
     ]
    },
    {
     "data": {
      "text/html": [
       "<span class=\"tex2jax_ignore\"><div class=\"entities\" style=\"line-height: 2.5; direction: ltr\">Strain \n",
       "<mark class=\"entity\" style=\"background: #ddd; padding: 0.45em 0.6em; margin: 0 0.25em; line-height: 1; border-radius: 0.35em;\">\n",
       "    W635T\n",
       "    <span style=\"font-size: 0.8em; font-weight: bold; line-height: 1; border-radius: 0.35em; vertical-align: middle; margin-left: 0.5rem\">STRAIN</span>\n",
       "</mark>\n",
       " was positive in VogesProskauer reaction, hydrolysis of esculin, gelatin, Tween 80 and xanthine.</div></span>"
      ],
      "text/plain": [
       "<IPython.core.display.HTML object>"
      ]
     },
     "metadata": {},
     "output_type": "display_data"
    },
    {
     "name": "stdout",
     "output_type": "stream",
     "text": [
      "The strain W635T can reduce nitrate to nitrite but not to nitrogen.\n"
     ]
    },
    {
     "data": {
      "text/html": [
       "<span class=\"tex2jax_ignore\"><div class=\"entities\" style=\"line-height: 2.5; direction: ltr\">The strain \n",
       "<mark class=\"entity\" style=\"background: #ddd; padding: 0.45em 0.6em; margin: 0 0.25em; line-height: 1; border-radius: 0.35em;\">\n",
       "    W635T\n",
       "    <span style=\"font-size: 0.8em; font-weight: bold; line-height: 1; border-radius: 0.35em; vertical-align: middle; margin-left: 0.5rem\">STRAIN</span>\n",
       "</mark>\n",
       " can reduce nitrate to nitrite but not to nitrogen.</div></span>"
      ],
      "text/plain": [
       "<IPython.core.display.HTML object>"
      ]
     },
     "metadata": {},
     "output_type": "display_data"
    },
    {
     "name": "stdout",
     "output_type": "stream",
     "text": [
      "The type strain, W635T (=KCTC 62429T=MCCC 1K03491T), was isolated from saline lake water in Lake Ayaqqum (3730 N 8930 E) in Xinjiang province, China.\n"
     ]
    },
    {
     "data": {
      "text/html": [
       "<span class=\"tex2jax_ignore\"><div class=\"entities\" style=\"line-height: 2.5; direction: ltr\">The type strain, \n",
       "<mark class=\"entity\" style=\"background: #ddd; padding: 0.45em 0.6em; margin: 0 0.25em; line-height: 1; border-radius: 0.35em;\">\n",
       "    W635T\n",
       "    <span style=\"font-size: 0.8em; font-weight: bold; line-height: 1; border-radius: 0.35em; vertical-align: middle; margin-left: 0.5rem\">STRAIN</span>\n",
       "</mark>\n",
       " (=\n",
       "<mark class=\"entity\" style=\"background: #ddd; padding: 0.45em 0.6em; margin: 0 0.25em; line-height: 1; border-radius: 0.35em;\">\n",
       "    KCTC 62429T\n",
       "    <span style=\"font-size: 0.8em; font-weight: bold; line-height: 1; border-radius: 0.35em; vertical-align: middle; margin-left: 0.5rem\">STRAIN</span>\n",
       "</mark>\n",
       "=\n",
       "<mark class=\"entity\" style=\"background: #ddd; padding: 0.45em 0.6em; margin: 0 0.25em; line-height: 1; border-radius: 0.35em;\">\n",
       "    MCCC 1K03491T\n",
       "    <span style=\"font-size: 0.8em; font-weight: bold; line-height: 1; border-radius: 0.35em; vertical-align: middle; margin-left: 0.5rem\">STRAIN</span>\n",
       "</mark>\n",
       "), was isolated from saline lake water in Lake Ayaqqum (3730 N 8930 E) in Xinjiang province, China.</div></span>"
      ],
      "text/plain": [
       "<IPython.core.display.HTML object>"
      ]
     },
     "metadata": {},
     "output_type": "display_data"
    },
    {
     "name": "stdout",
     "output_type": "stream",
     "text": [
      "The GenBank/EMBL/DDBJ accession number for the 16S rRNA gene sequence of strain W635T is MG722799.\n"
     ]
    },
    {
     "data": {
      "text/html": [
       "<span class=\"tex2jax_ignore\"><div class=\"entities\" style=\"line-height: 2.5; direction: ltr\">The GenBank/EMBL/DDBJ accession number for the 16S rRNA gene sequence of strain \n",
       "<mark class=\"entity\" style=\"background: #ddd; padding: 0.45em 0.6em; margin: 0 0.25em; line-height: 1; border-radius: 0.35em;\">\n",
       "    W635T\n",
       "    <span style=\"font-size: 0.8em; font-weight: bold; line-height: 1; border-radius: 0.35em; vertical-align: middle; margin-left: 0.5rem\">STRAIN</span>\n",
       "</mark>\n",
       " is MG722799.</div></span>"
      ],
      "text/plain": [
       "<IPython.core.display.HTML object>"
      ]
     },
     "metadata": {},
     "output_type": "display_data"
    },
    {
     "name": "stdout",
     "output_type": "stream",
     "text": [
      "The GenBank accession numbers for the whole-genome sequences of strain W635T, N. aestuarii JCM30752T and R. tibetensis CGMCC1.16230T are QVQC00000000, JBPBBA000000000 and JBPBBB000000000, respectively.\n",
      " \n"
     ]
    },
    {
     "data": {
      "text/html": [
       "<span class=\"tex2jax_ignore\"><div class=\"entities\" style=\"line-height: 2.5; direction: ltr\">The GenBank accession numbers for the whole-genome sequences of strain \n",
       "<mark class=\"entity\" style=\"background: #ddd; padding: 0.45em 0.6em; margin: 0 0.25em; line-height: 1; border-radius: 0.35em;\">\n",
       "    W635T\n",
       "    <span style=\"font-size: 0.8em; font-weight: bold; line-height: 1; border-radius: 0.35em; vertical-align: middle; margin-left: 0.5rem\">STRAIN</span>\n",
       "</mark>\n",
       ", N. aestuarii \n",
       "<mark class=\"entity\" style=\"background: #ddd; padding: 0.45em 0.6em; margin: 0 0.25em; line-height: 1; border-radius: 0.35em;\">\n",
       "    JCM30752T\n",
       "    <span style=\"font-size: 0.8em; font-weight: bold; line-height: 1; border-radius: 0.35em; vertical-align: middle; margin-left: 0.5rem\">STRAIN</span>\n",
       "</mark>\n",
       " and R. tibetensis \n",
       "<mark class=\"entity\" style=\"background: #ddd; padding: 0.45em 0.6em; margin: 0 0.25em; line-height: 1; border-radius: 0.35em;\">\n",
       "    CGMCC1.16230T\n",
       "    <span style=\"font-size: 0.8em; font-weight: bold; line-height: 1; border-radius: 0.35em; vertical-align: middle; margin-left: 0.5rem\">STRAIN</span>\n",
       "</mark>\n",
       " are QVQC00000000, JBPBBA000000000 and JBPBBB000000000, respectively.<br> </div></span>"
      ],
      "text/plain": [
       "<IPython.core.display.HTML object>"
      ]
     },
     "metadata": {},
     "output_type": "display_data"
    }
   ],
   "source": [
    "from selenium.webdriver.common.by import By\n",
    "import tempfile\n",
    "pub_df = pd.DataFrame(columns=['PublishedName', 'Accessions', 'Strains', 'Authority', 'DOI', 'filtered_url'])\n",
    "pd.set_option('display.max_columns', None)\n",
    "combined_description = []\n",
    "\n",
    "for filtered_url in filtered_urls:\n",
    "    temp_profile = tempfile.mkdtemp()\n",
    "\n",
    "    options = Options()\n",
    "    options.binary_location = chrome_path\n",
    "    options.add_argument(\"--headless\")\n",
    "    options.add_argument(\"--no-sandbox\")\n",
    "    options.add_argument(\"--disable-dev-shm-usage\")\n",
    "    driver = webdriver.Chrome(options=options)\n",
    "\n",
    "    counter = 1\n",
    "    strains = []\n",
    "    accessions = []\n",
    "    orgname = []\n",
    "    doi = []\n",
    "    author = []\n",
    "    date = []\n",
    "    year = []\n",
    "    author_raw = []\n",
    "    author = []\n",
    "    name1 = []\n",
    "    name2 = []\n",
    "    author_count = []\n",
    "    authority = []\n",
    "    description = None\n",
    "    description1 = []\n",
    "    description2 = []\n",
    "    snumber = []\n",
    "\n",
    "    #Navigate to the webpage\n",
    "    driver.get(filtered_url)\n",
    "\n",
    "    #Allow time for dynamic content to load (you may need to use WebDriverWait for more robust waiting)\n",
    "    time.sleep(3)\n",
    "    \n",
    "    html = driver.page_source\n",
    "    \n",
    "    for element in driver.find_elements(By.CLASS_NAME, \"item-meta-data__item-title\"):\n",
    "        #print(element.text)\n",
    "        title = element.text\n",
    "        #print(title)\n",
    "        \n",
    "    for element in driver.find_elements(By.PARTIAL_LINK_TEXT, \"doi.org\"):\n",
    "        doi = element.text\n",
    "        #print(doi)\n",
    "    \n",
    "    #find publication year\n",
    "    for element in driver.find_elements(By.XPATH, \"//*[@id='bellowheadercontainer']/main/div[2]/div/ul/li[3]/span/span[2]\"):\n",
    "        date = element.text\n",
    "        year = date[-4:]\n",
    "        #print(year)\n",
    "    \n",
    "    #find authors\n",
    "    for element in driver.find_elements(By.XPATH, \"//*[@id='bellowheadercontainer']/main/div[2]/div/ul/li[1]/span\"):\n",
    "        author_raw = element.text\n",
    "        #print(author_raw)\n",
    "        author = re.sub(r\"[\\d+]+\",'',author_raw)\n",
    "        author = re.sub(r\"†\",'',author)\n",
    "        author = re.sub(r\" and \",',',author)\n",
    "        author = re.sub(r\",,\",',',author)  \n",
    "        author = author.split(',')\n",
    "        author[:] = [item for item in author if item != '']\n",
    "        #print(author)\n",
    "        author_count = len(author)\n",
    "        #print(author_count)\n",
    "        if author_count == 1:\n",
    "            name1 = (str(author[0])) \n",
    "            name1 = HumanName(name1)\n",
    "            authority = name1.last + ' ' +str(year)\n",
    "            #print(authority)\n",
    "        elif author_count ==2:\n",
    "            name1 = (str(author[0]))\n",
    "            name1 = HumanName(name1)\n",
    "            name2 = (str(author[1]))\n",
    "            name2 = HumanName(name2)\n",
    "            authority = name1.last + ' and ' + name2.last + ' ' +str(year)\n",
    "            #print(authority)\n",
    "        else:\n",
    "            name1 = (str(author[0]))\n",
    "            name1 = HumanName(name1)\n",
    "            authority = name1.last + ' et al. ' +str(year)\n",
    "            #print(authority)\n",
    "    \n",
    "    #extract data from each species description\n",
    "    for element in driver.find_elements(By.CSS_SELECTOR, \"div.tl-main-part.title\"): #finds section headers\n",
    "        #print(element.text)\n",
    "        counter += 1\n",
    "        description = element.text\n",
    "        #print(description)\n",
    "        if \"Description of\" in description:\n",
    "            strains = []\n",
    "            #print('found', description)  \n",
    "            #snumber = 's' + str(counter - 4) + '/p[3]'\n",
    "            snumber = 's' + str(counter - 4)\n",
    "            #print('snumber is', snumber)\n",
    "            for element in driver.find_elements(By.ID, snumber):\n",
    "                description = element.text\n",
    "                cleaned_text = remove_non_ascii(description)\n",
    "                combined_description.append(cleaned_text)\n",
    "                #print(cleaned_text)\n",
    "                #print(description)\n",
    "                        \n",
    "                #find the organism names \n",
    "                orgname = []\n",
    "                match = [r'(\\S+\\s+){2}(?=sp. nov)', r'(\\S+\\s+){2}(?=nom. nov.)', r'(\\S+\\s+){2}(?=SP. NOV.)', r'(\\S+\\s+){4}(?=subsp. nov.)']\n",
    "                regex = re.compile(r'\\b(' + '|'.join(match) + r')\\b')\n",
    "                if description is not None:\n",
    "                    orgname = [m.group() for m in regex.finditer(description)]\n",
    "                    #print('orgname', orgname)\n",
    "\n",
    "                #find the accessions\n",
    "                pattern = [r'[A-Z]{2}\\d{6}', r'[A-Z]{4}\\d{8}', r'([A-Z]+)(_[A-Z]+)\\d{6}', r'[A-Z]{6}\\d{9}']\n",
    "                regex = re.compile(r'\\b(' + '|'.join(pattern) + r')\\b')\n",
    "                if description is not None:\n",
    "                    accessions = [m.group() for m in regex.finditer(description)]\n",
    "                    #print('accessions', accessions)\n",
    "    \n",
    "                #find the strains\n",
    "                if description is not None:\n",
    "                    find_strains(cleaned_text)\n",
    "                    #print('strain names', strains)\n",
    "    \n",
    "                #load data into pandas dataframe\n",
    "                row_data = [orgname, accessions, strains, authority, doi, filtered_url]\n",
    "                length = len(pub_df)\n",
    "                pub_df.loc[length] = row_data\n",
    "            #print('BREAK1')\n",
    "\n",
    "   \n",
    "    for element in driver.find_elements(By.CLASS_NAME, \"tl-lowest-section\"): #finds section headers\n",
    "        description1 = element.text\n",
    "        outer_html = element.get_attribute(\"outerHTML\")\n",
    "        if \"Description of\" in description1:          \n",
    "            #print(outer_html)\n",
    "            spans = soup.findAll('span', attrs = {'class' : 'tl-lowest-section'})\n",
    "            for span in spans:\n",
    "                if \"Description of\" in span.text:   \n",
    "                    #print (span.text)\n",
    "                    outer_div_id = span.find_parent('div').get('id')\n",
    "                    #print(f\"Outer div ID: {outer_div_id}, Text: {span.text}\")\n",
    "                    for element in driver.find_elements(By.ID, outer_div_id):\n",
    "                        description = element.text\n",
    "                        cleaned_text = remove_non_ascii(description)\n",
    "                        combined_description.append(cleaned_text)\n",
    "                        #print(cleaned_text)\n",
    "                        #print(description)\n",
    "                        \n",
    "                    #find the organism names   \n",
    "                    orgname = []\n",
    "                    match = [r'(\\S+\\s+){2}(?=sp. nov)', r'(\\S+\\s+){2}(?=nom. nov.)', r'(\\S+\\s+){2}(?=SP. NOV.)', r'(\\S+\\s+){4}(?=subsp. nov.)']\n",
    "                    regex = re.compile(r'\\b(' + '|'.join(match) + r')\\b')\n",
    "                    if description is not None:\n",
    "                        orgname = [m.group() for m in regex.finditer(description)]\n",
    "                        #print('orgname', orgname)\n",
    "\n",
    "                    #find the accessions\n",
    "                    pattern = [r'[A-Z]{2}\\d{6}', r'[A-Z]{4}\\d{8}', r'([A-Z]+)(_[A-Z]+)\\d{6}', r'[A-Z]{6}\\d{9}']\n",
    "                    regex = re.compile(r'\\b(' + '|'.join(pattern) + r')\\b')\n",
    "                    if description is not None:\n",
    "                        accessions = [m.group() for m in regex.finditer(description)]\n",
    "                        #print('accessions', accessions)\n",
    "    \n",
    "                    #find the strains\n",
    "                    strains = []\n",
    "                    if description is not None:\n",
    "                        find_strains(cleaned_text)\n",
    "                        #print('strain names', strains)\n",
    "    \n",
    "                    #load data into pandas dataframe\n",
    "                    row_data = [orgname, accessions, strains, authority, doi, filtered_url]\n",
    "                    length = len(pub_df)\n",
    "                    pub_df.loc[length] = row_data\n",
    "                    #print('BREAK2')\n",
    "\n",
    "        \n",
    "#Close the browser window\n",
    "    driver.quit()    "
   ]
  },
  {
   "cell_type": "code",
   "execution_count": 6,
   "id": "8a2b16f8",
   "metadata": {},
   "outputs": [],
   "source": [
    "#optional write description to a file\n",
    "#print(combined_description)\n",
    "file = open(alldescriptions, \"w\")\n",
    "file.writelines(combined_description)\n",
    "file.close()"
   ]
  },
  {
   "cell_type": "code",
   "execution_count": 10,
   "id": "42783410",
   "metadata": {},
   "outputs": [
    {
     "data": {
      "text/html": [
       "<div>\n",
       "<style scoped>\n",
       "    .dataframe tbody tr th:only-of-type {\n",
       "        vertical-align: middle;\n",
       "    }\n",
       "\n",
       "    .dataframe tbody tr th {\n",
       "        vertical-align: top;\n",
       "    }\n",
       "\n",
       "    .dataframe thead th {\n",
       "        text-align: right;\n",
       "    }\n",
       "</style>\n",
       "<table border=\"1\" class=\"dataframe\">\n",
       "  <thead>\n",
       "    <tr style=\"text-align: right;\">\n",
       "      <th></th>\n",
       "      <th>PublishedName</th>\n",
       "      <th>Accessions</th>\n",
       "      <th>Strains</th>\n",
       "      <th>Authority</th>\n",
       "      <th>DOI</th>\n",
       "      <th>filtered_url</th>\n",
       "    </tr>\n",
       "  </thead>\n",
       "  <tbody>\n",
       "    <tr>\n",
       "      <th>0</th>\n",
       "      <td>NaN</td>\n",
       "      <td>[]</td>\n",
       "      <td>NCTC 11411T</td>\n",
       "      <td>Bisgaard and Christensen 2025</td>\n",
       "      <td>https://doi.org/10.1099/ijsem.0.006867</td>\n",
       "      <td>http://dx.doi.org/10.1099/ijsem.0.006867</td>\n",
       "    </tr>\n",
       "    <tr>\n",
       "      <th>1</th>\n",
       "      <td>Macrococcus equi</td>\n",
       "      <td>[CP179735, CP179734, CP179731, CP179736, CP179732]</td>\n",
       "      <td>18KM445,  DSM 118744,  CCOS 2124,  18KM445T</td>\n",
       "      <td>Belhout et al. 2025</td>\n",
       "      <td>https://doi.org/10.1099/ijsem.0.006861</td>\n",
       "      <td>http://dx.doi.org/10.1099/ijsem.0.006861</td>\n",
       "    </tr>\n",
       "    <tr>\n",
       "      <th>2</th>\n",
       "      <td>Macrococcus animalis</td>\n",
       "      <td>[CP179725, CP179727, CP179728, CP179724]</td>\n",
       "      <td>EM39E,  DSM 118743,  CCOS 2125,  CCM 9439,  JEK85</td>\n",
       "      <td>Belhout et al. 2025</td>\n",
       "      <td>https://doi.org/10.1099/ijsem.0.006861</td>\n",
       "      <td>http://dx.doi.org/10.1099/ijsem.0.006861</td>\n",
       "    </tr>\n",
       "    <tr>\n",
       "      <th>3</th>\n",
       "      <td>Pseudogemmobacter sonorensis</td>\n",
       "      <td>[OP709268, JBEFZE000000000, JBEFZE010000000]</td>\n",
       "      <td>PA1-206BT,  DSM 115559T,  NCAIM B.02680T</td>\n",
       "      <td>Lange-Enyedi et al. 2025</td>\n",
       "      <td>https://doi.org/10.1099/ijsem.0.006859</td>\n",
       "      <td>http://dx.doi.org/10.1099/ijsem.0.006859</td>\n",
       "    </tr>\n",
       "    <tr>\n",
       "      <th>4</th>\n",
       "      <td>Streptomyces antarcticus</td>\n",
       "      <td>[OP093992, JAPNLM000000000]</td>\n",
       "      <td>H27-S2T,  DSM 114983T,  CGMCC 4.7867T,  8.5 Mbp</td>\n",
       "      <td>Sahin et al. 2025</td>\n",
       "      <td>https://doi.org/10.1099/ijsem.0.006856</td>\n",
       "      <td>http://dx.doi.org/10.1099/ijsem.0.006856</td>\n",
       "    </tr>\n",
       "    <tr>\n",
       "      <th>5</th>\n",
       "      <td>Nioella halotolerans</td>\n",
       "      <td>[MG722799, QVQC00000000, JBPBBA000000000, JBPBBB000000000]</td>\n",
       "      <td>W635T,  KCTC 62429T,  MCCC 1K03491T,  JCM30752T,  CGMCC1.16230T</td>\n",
       "      <td>Han et al. 2025</td>\n",
       "      <td>https://doi.org/10.1099/ijsem.0.006858</td>\n",
       "      <td>http://dx.doi.org/10.1099/ijsem.0.006858</td>\n",
       "    </tr>\n",
       "  </tbody>\n",
       "</table>\n",
       "</div>"
      ],
      "text/plain": [
       "                   PublishedName  \\\n",
       "0                            NaN   \n",
       "1              Macrococcus equi    \n",
       "2          Macrococcus animalis    \n",
       "3  Pseudogemmobacter sonorensis    \n",
       "4      Streptomyces antarcticus    \n",
       "5          Nioella halotolerans    \n",
       "\n",
       "                                                   Accessions  \\\n",
       "0                                                          []   \n",
       "1          [CP179735, CP179734, CP179731, CP179736, CP179732]   \n",
       "2                    [CP179725, CP179727, CP179728, CP179724]   \n",
       "3                [OP709268, JBEFZE000000000, JBEFZE010000000]   \n",
       "4                                 [OP093992, JAPNLM000000000]   \n",
       "5  [MG722799, QVQC00000000, JBPBBA000000000, JBPBBB000000000]   \n",
       "\n",
       "                                                           Strains  \\\n",
       "0                                                      NCTC 11411T   \n",
       "1                      18KM445,  DSM 118744,  CCOS 2124,  18KM445T   \n",
       "2                EM39E,  DSM 118743,  CCOS 2125,  CCM 9439,  JEK85   \n",
       "3                         PA1-206BT,  DSM 115559T,  NCAIM B.02680T   \n",
       "4                  H27-S2T,  DSM 114983T,  CGMCC 4.7867T,  8.5 Mbp   \n",
       "5  W635T,  KCTC 62429T,  MCCC 1K03491T,  JCM30752T,  CGMCC1.16230T   \n",
       "\n",
       "                       Authority                                     DOI  \\\n",
       "0  Bisgaard and Christensen 2025  https://doi.org/10.1099/ijsem.0.006867   \n",
       "1            Belhout et al. 2025  https://doi.org/10.1099/ijsem.0.006861   \n",
       "2            Belhout et al. 2025  https://doi.org/10.1099/ijsem.0.006861   \n",
       "3       Lange-Enyedi et al. 2025  https://doi.org/10.1099/ijsem.0.006859   \n",
       "4              Sahin et al. 2025  https://doi.org/10.1099/ijsem.0.006856   \n",
       "5                Han et al. 2025  https://doi.org/10.1099/ijsem.0.006858   \n",
       "\n",
       "                               filtered_url  \n",
       "0  http://dx.doi.org/10.1099/ijsem.0.006867  \n",
       "1  http://dx.doi.org/10.1099/ijsem.0.006861  \n",
       "2  http://dx.doi.org/10.1099/ijsem.0.006861  \n",
       "3  http://dx.doi.org/10.1099/ijsem.0.006859  \n",
       "4  http://dx.doi.org/10.1099/ijsem.0.006856  \n",
       "5  http://dx.doi.org/10.1099/ijsem.0.006858  "
      ]
     },
     "execution_count": 10,
     "metadata": {},
     "output_type": "execute_result"
    }
   ],
   "source": [
    "pd.set_option('max_colwidth', None)\n",
    "pub_df['Strains'] = [', '.join(map(str, l)) for l in pub_df['Strains']]\n",
    "#pub_df['Strains'] = pub_df['Strains'].astype(str) \n",
    "pub_df['Strains'] = pub_df['Strains'].astype(pd.StringDtype())\n",
    "pub_df['Strains'] = pub_df['Strains'].str.replace(',', ', ')\n",
    "pub_df = pub_df.drop_duplicates(subset='PublishedName', keep=\"first\")\n",
    "#try drop duplicate accessions here\n",
    "pub_df.explode(['PublishedName']).reset_index(drop=True)"
   ]
  },
  {
   "cell_type": "code",
   "execution_count": null,
   "id": "e74e265b",
   "metadata": {},
   "outputs": [],
   "source": [
    "#pub_df['Strains'] = pub_df['Strains'].astype(pd.StringDtype())\n",
    "#pub_df['Strains'] = pub_df['Strains'].str.replace(',', ', ')\n",
    "#pub_df"
   ]
  },
  {
   "cell_type": "code",
   "execution_count": null,
   "id": "66791f58",
   "metadata": {},
   "outputs": [],
   "source": []
  },
  {
   "cell_type": "code",
   "execution_count": 11,
   "id": "58034d28",
   "metadata": {},
   "outputs": [],
   "source": [
    "pub2_df = pub_df.explode(['Accessions']).reset_index(drop=True)\n",
    "#pub2_df\n",
    "pub4_df = pub2_df.explode(['PublishedName']).reset_index(drop=True)\n",
    "pub4_df.rename(columns={'Accessions' : 'accession'}, inplace=True)\n",
    "#pub4_df = pub4_df.dropna()\n",
    "#pub4_df = pub4_df.drop_duplicates(subset='accession', keep=\"first\")\n",
    "pub4_df=pub4_df[pub4_df['accession'].isnull() | ~pub4_df[pub4_df['accession'].notnull()].duplicated(subset='accession',keep='first')]\n",
    "#pub4_df"
   ]
  },
  {
   "cell_type": "code",
   "execution_count": 12,
   "id": "4a103350",
   "metadata": {},
   "outputs": [],
   "source": [
    "df_unique= pub4_df.drop_duplicates([\"accession\"], keep=\"first\")\n",
    "#df_unique = df_unique.dropna()\n",
    "#df_unique"
   ]
  },
  {
   "cell_type": "markdown",
   "id": "d7f80dd1",
   "metadata": {},
   "source": [
    "### Create a dataframe of unique accessions and look up NCBI taxonomy information of each accession with srcchk"
   ]
  },
  {
   "cell_type": "code",
   "execution_count": null,
   "id": "84a9da33",
   "metadata": {},
   "outputs": [],
   "source": [
    "#df_unique.dtypes"
   ]
  },
  {
   "cell_type": "code",
   "execution_count": 13,
   "id": "8208be48",
   "metadata": {},
   "outputs": [],
   "source": [
    "#df_unique['accession'] = df_unique['accession'].astype('str') \n",
    "df_unique.loc[:, 'accession'] = df_unique['accession'].astype('str') "
   ]
  },
  {
   "cell_type": "code",
   "execution_count": 14,
   "id": "1be92fbc",
   "metadata": {},
   "outputs": [],
   "source": [
    "with open('acclist', 'w') as f:\n",
    "    for text in df_unique['accession'].tolist():\n",
    "        f.write(text + '\\n')"
   ]
  },
  {
   "cell_type": "code",
   "execution_count": 15,
   "id": "a97a9150",
   "metadata": {},
   "outputs": [
    {
     "name": "stderr",
     "output_type": "stream",
     "text": [
      "Error: Malformatted ID \"nan\"\n"
     ]
    },
    {
     "data": {
      "text/plain": [
       "0"
      ]
     },
     "execution_count": 15,
     "metadata": {},
     "output_type": "execute_result"
    }
   ],
   "source": [
    "os.system(\"/netopt/ncbi_tools64/bin/srcchk -i acclist -f taxname,taxid,strain -o acclist.taxdata\")\n"
   ]
  },
  {
   "cell_type": "code",
   "execution_count": 16,
   "id": "1f0aaf52",
   "metadata": {},
   "outputs": [
    {
     "data": {
      "text/html": [
       "<div>\n",
       "<style scoped>\n",
       "    .dataframe tbody tr th:only-of-type {\n",
       "        vertical-align: middle;\n",
       "    }\n",
       "\n",
       "    .dataframe tbody tr th {\n",
       "        vertical-align: top;\n",
       "    }\n",
       "\n",
       "    .dataframe thead th {\n",
       "        text-align: right;\n",
       "    }\n",
       "</style>\n",
       "<table border=\"1\" class=\"dataframe\">\n",
       "  <thead>\n",
       "    <tr style=\"text-align: right;\">\n",
       "      <th></th>\n",
       "      <th>accession</th>\n",
       "      <th>NCBIname</th>\n",
       "      <th>taxid</th>\n",
       "      <th>strain</th>\n",
       "    </tr>\n",
       "  </thead>\n",
       "  <tbody>\n",
       "    <tr>\n",
       "      <th>1</th>\n",
       "      <td>CP179735</td>\n",
       "      <td>Macrococcus equi</td>\n",
       "      <td>3395462.0</td>\n",
       "      <td>18KM445</td>\n",
       "    </tr>\n",
       "    <tr>\n",
       "      <th>2</th>\n",
       "      <td>CP179734</td>\n",
       "      <td>Macrococcus equi</td>\n",
       "      <td>3395462.0</td>\n",
       "      <td>18KM444</td>\n",
       "    </tr>\n",
       "    <tr>\n",
       "      <th>3</th>\n",
       "      <td>CP179731</td>\n",
       "      <td>Macrococcus equi</td>\n",
       "      <td>3395462.0</td>\n",
       "      <td>18KM245</td>\n",
       "    </tr>\n",
       "    <tr>\n",
       "      <th>4</th>\n",
       "      <td>CP179736</td>\n",
       "      <td>Macrococcus equi</td>\n",
       "      <td>3395462.0</td>\n",
       "      <td>18KM583</td>\n",
       "    </tr>\n",
       "    <tr>\n",
       "      <th>5</th>\n",
       "      <td>CP179732</td>\n",
       "      <td>Macrococcus equi</td>\n",
       "      <td>3395462.0</td>\n",
       "      <td>21KM1573</td>\n",
       "    </tr>\n",
       "    <tr>\n",
       "      <th>6</th>\n",
       "      <td>CP179725</td>\n",
       "      <td>Macrococcus animalis</td>\n",
       "      <td>3395467.0</td>\n",
       "      <td>JEK85</td>\n",
       "    </tr>\n",
       "    <tr>\n",
       "      <th>7</th>\n",
       "      <td>CP179727</td>\n",
       "      <td>Macrococcus animalis</td>\n",
       "      <td>3395467.0</td>\n",
       "      <td>EM39E</td>\n",
       "    </tr>\n",
       "    <tr>\n",
       "      <th>8</th>\n",
       "      <td>CP179728</td>\n",
       "      <td>Macrococcus animalis</td>\n",
       "      <td>3395467.0</td>\n",
       "      <td>18KM676</td>\n",
       "    </tr>\n",
       "    <tr>\n",
       "      <th>9</th>\n",
       "      <td>CP179724</td>\n",
       "      <td>Macrococcus animalis</td>\n",
       "      <td>3395467.0</td>\n",
       "      <td>21M1142</td>\n",
       "    </tr>\n",
       "    <tr>\n",
       "      <th>10</th>\n",
       "      <td>OP709268</td>\n",
       "      <td>Pseudogemmobacter sonorensis</td>\n",
       "      <td>2989681.0</td>\n",
       "      <td>PA1-206B</td>\n",
       "    </tr>\n",
       "    <tr>\n",
       "      <th>11</th>\n",
       "      <td>JBEFZE000000000</td>\n",
       "      <td>Pseudogemmobacter sonorensis</td>\n",
       "      <td>2989681.0</td>\n",
       "      <td>PA1-206B</td>\n",
       "    </tr>\n",
       "    <tr>\n",
       "      <th>13</th>\n",
       "      <td>OP093992</td>\n",
       "      <td>Streptomyces antarcticus</td>\n",
       "      <td>2996458.0</td>\n",
       "      <td>H27-S2</td>\n",
       "    </tr>\n",
       "    <tr>\n",
       "      <th>14</th>\n",
       "      <td>JAPNLM000000000</td>\n",
       "      <td>Streptomyces antarcticus</td>\n",
       "      <td>2996458.0</td>\n",
       "      <td>H27-S2</td>\n",
       "    </tr>\n",
       "    <tr>\n",
       "      <th>15</th>\n",
       "      <td>MG722799</td>\n",
       "      <td>Nioella halotolerans</td>\n",
       "      <td>2303578.0</td>\n",
       "      <td>W635</td>\n",
       "    </tr>\n",
       "    <tr>\n",
       "      <th>16</th>\n",
       "      <td>QVQC00000000</td>\n",
       "      <td>Nioella halotolerans</td>\n",
       "      <td>2303578.0</td>\n",
       "      <td>W635</td>\n",
       "    </tr>\n",
       "    <tr>\n",
       "      <th>17</th>\n",
       "      <td>JBPBBA000000000</td>\n",
       "      <td>Nioella aestuarii</td>\n",
       "      <td>1662864.0</td>\n",
       "      <td>JCM 30752</td>\n",
       "    </tr>\n",
       "    <tr>\n",
       "      <th>18</th>\n",
       "      <td>JBPBBB000000000</td>\n",
       "      <td>Roseovarius tibetensis</td>\n",
       "      <td>2685897.0</td>\n",
       "      <td>CGMCC 1.16230</td>\n",
       "    </tr>\n",
       "  </tbody>\n",
       "</table>\n",
       "</div>"
      ],
      "text/plain": [
       "          accession                      NCBIname      taxid         strain\n",
       "1          CP179735              Macrococcus equi  3395462.0        18KM445\n",
       "2          CP179734              Macrococcus equi  3395462.0        18KM444\n",
       "3          CP179731              Macrococcus equi  3395462.0        18KM245\n",
       "4          CP179736              Macrococcus equi  3395462.0        18KM583\n",
       "5          CP179732              Macrococcus equi  3395462.0       21KM1573\n",
       "6          CP179725          Macrococcus animalis  3395467.0          JEK85\n",
       "7          CP179727          Macrococcus animalis  3395467.0          EM39E\n",
       "8          CP179728          Macrococcus animalis  3395467.0        18KM676\n",
       "9          CP179724          Macrococcus animalis  3395467.0        21M1142\n",
       "10         OP709268  Pseudogemmobacter sonorensis  2989681.0       PA1-206B\n",
       "11  JBEFZE000000000  Pseudogemmobacter sonorensis  2989681.0       PA1-206B\n",
       "13         OP093992      Streptomyces antarcticus  2996458.0         H27-S2\n",
       "14  JAPNLM000000000      Streptomyces antarcticus  2996458.0         H27-S2\n",
       "15         MG722799          Nioella halotolerans  2303578.0           W635\n",
       "16     QVQC00000000          Nioella halotolerans  2303578.0           W635\n",
       "17  JBPBBA000000000             Nioella aestuarii  1662864.0      JCM 30752\n",
       "18  JBPBBB000000000        Roseovarius tibetensis  2685897.0  CGMCC 1.16230"
      ]
     },
     "execution_count": 16,
     "metadata": {},
     "output_type": "execute_result"
    }
   ],
   "source": [
    "taxdata_file_name = (r'acclist.taxdata')    \n",
    "srcchk_df = pd.read_csv(taxdata_file_name, sep='\\t', index_col=None, low_memory=False)\n",
    "srcchk_df.drop(columns=['Unnamed: 4'], inplace=True)\n",
    "srcchk_df.rename(columns={'organism' : 'NCBIname'}, inplace=True)\n",
    "srcchk_df['accession'] = srcchk_df['accession'].astype(str).replace('\\.\\d+', '', regex=True).astype(str)\n",
    "srcchk_df = srcchk_df.dropna(subset=['NCBIname'])\n",
    "srcchk_df "
   ]
  },
  {
   "cell_type": "markdown",
   "id": "81b7fe78",
   "metadata": {},
   "source": [
    "### Combine dataframes into one"
   ]
  },
  {
   "cell_type": "code",
   "execution_count": 17,
   "id": "7f05118d",
   "metadata": {},
   "outputs": [
    {
     "data": {
      "text/html": [
       "<div>\n",
       "<style scoped>\n",
       "    .dataframe tbody tr th:only-of-type {\n",
       "        vertical-align: middle;\n",
       "    }\n",
       "\n",
       "    .dataframe tbody tr th {\n",
       "        vertical-align: top;\n",
       "    }\n",
       "\n",
       "    .dataframe thead th {\n",
       "        text-align: right;\n",
       "    }\n",
       "</style>\n",
       "<table border=\"1\" class=\"dataframe\">\n",
       "  <thead>\n",
       "    <tr style=\"text-align: right;\">\n",
       "      <th></th>\n",
       "      <th>PublishedName</th>\n",
       "      <th>NCBIname</th>\n",
       "      <th>Strains</th>\n",
       "      <th>accession</th>\n",
       "      <th>strain</th>\n",
       "      <th>Authority</th>\n",
       "      <th>taxid</th>\n",
       "      <th>DOI</th>\n",
       "      <th>filtered_url</th>\n",
       "    </tr>\n",
       "  </thead>\n",
       "  <tbody>\n",
       "    <tr>\n",
       "      <th>0</th>\n",
       "      <td>Macrococcus animalis</td>\n",
       "      <td>Macrococcus animalis</td>\n",
       "      <td>EM39E,  DSM 118743,  CCOS 2125,  CCM 9439,  JEK85</td>\n",
       "      <td>CP179724</td>\n",
       "      <td>21M1142</td>\n",
       "      <td>Belhout et al. 2025</td>\n",
       "      <td>3395467.0</td>\n",
       "      <td>https://doi.org/10.1099/ijsem.0.006861</td>\n",
       "      <td>http://dx.doi.org/10.1099/ijsem.0.006861</td>\n",
       "    </tr>\n",
       "    <tr>\n",
       "      <th>1</th>\n",
       "      <td>Macrococcus animalis</td>\n",
       "      <td>Macrococcus animalis</td>\n",
       "      <td>EM39E,  DSM 118743,  CCOS 2125,  CCM 9439,  JEK85</td>\n",
       "      <td>CP179725</td>\n",
       "      <td>JEK85</td>\n",
       "      <td>Belhout et al. 2025</td>\n",
       "      <td>3395467.0</td>\n",
       "      <td>https://doi.org/10.1099/ijsem.0.006861</td>\n",
       "      <td>http://dx.doi.org/10.1099/ijsem.0.006861</td>\n",
       "    </tr>\n",
       "    <tr>\n",
       "      <th>2</th>\n",
       "      <td>Macrococcus animalis</td>\n",
       "      <td>Macrococcus animalis</td>\n",
       "      <td>EM39E,  DSM 118743,  CCOS 2125,  CCM 9439,  JEK85</td>\n",
       "      <td>CP179727</td>\n",
       "      <td>EM39E</td>\n",
       "      <td>Belhout et al. 2025</td>\n",
       "      <td>3395467.0</td>\n",
       "      <td>https://doi.org/10.1099/ijsem.0.006861</td>\n",
       "      <td>http://dx.doi.org/10.1099/ijsem.0.006861</td>\n",
       "    </tr>\n",
       "    <tr>\n",
       "      <th>3</th>\n",
       "      <td>Macrococcus animalis</td>\n",
       "      <td>Macrococcus animalis</td>\n",
       "      <td>EM39E,  DSM 118743,  CCOS 2125,  CCM 9439,  JEK85</td>\n",
       "      <td>CP179728</td>\n",
       "      <td>18KM676</td>\n",
       "      <td>Belhout et al. 2025</td>\n",
       "      <td>3395467.0</td>\n",
       "      <td>https://doi.org/10.1099/ijsem.0.006861</td>\n",
       "      <td>http://dx.doi.org/10.1099/ijsem.0.006861</td>\n",
       "    </tr>\n",
       "    <tr>\n",
       "      <th>4</th>\n",
       "      <td>Macrococcus equi</td>\n",
       "      <td>Macrococcus equi</td>\n",
       "      <td>18KM445,  DSM 118744,  CCOS 2124,  18KM445T</td>\n",
       "      <td>CP179731</td>\n",
       "      <td>18KM245</td>\n",
       "      <td>Belhout et al. 2025</td>\n",
       "      <td>3395462.0</td>\n",
       "      <td>https://doi.org/10.1099/ijsem.0.006861</td>\n",
       "      <td>http://dx.doi.org/10.1099/ijsem.0.006861</td>\n",
       "    </tr>\n",
       "    <tr>\n",
       "      <th>5</th>\n",
       "      <td>Macrococcus equi</td>\n",
       "      <td>Macrococcus equi</td>\n",
       "      <td>18KM445,  DSM 118744,  CCOS 2124,  18KM445T</td>\n",
       "      <td>CP179732</td>\n",
       "      <td>21KM1573</td>\n",
       "      <td>Belhout et al. 2025</td>\n",
       "      <td>3395462.0</td>\n",
       "      <td>https://doi.org/10.1099/ijsem.0.006861</td>\n",
       "      <td>http://dx.doi.org/10.1099/ijsem.0.006861</td>\n",
       "    </tr>\n",
       "    <tr>\n",
       "      <th>6</th>\n",
       "      <td>Macrococcus equi</td>\n",
       "      <td>Macrococcus equi</td>\n",
       "      <td>18KM445,  DSM 118744,  CCOS 2124,  18KM445T</td>\n",
       "      <td>CP179734</td>\n",
       "      <td>18KM444</td>\n",
       "      <td>Belhout et al. 2025</td>\n",
       "      <td>3395462.0</td>\n",
       "      <td>https://doi.org/10.1099/ijsem.0.006861</td>\n",
       "      <td>http://dx.doi.org/10.1099/ijsem.0.006861</td>\n",
       "    </tr>\n",
       "    <tr>\n",
       "      <th>7</th>\n",
       "      <td>Macrococcus equi</td>\n",
       "      <td>Macrococcus equi</td>\n",
       "      <td>18KM445,  DSM 118744,  CCOS 2124,  18KM445T</td>\n",
       "      <td>CP179735</td>\n",
       "      <td>18KM445</td>\n",
       "      <td>Belhout et al. 2025</td>\n",
       "      <td>3395462.0</td>\n",
       "      <td>https://doi.org/10.1099/ijsem.0.006861</td>\n",
       "      <td>http://dx.doi.org/10.1099/ijsem.0.006861</td>\n",
       "    </tr>\n",
       "    <tr>\n",
       "      <th>8</th>\n",
       "      <td>Macrococcus equi</td>\n",
       "      <td>Macrococcus equi</td>\n",
       "      <td>18KM445,  DSM 118744,  CCOS 2124,  18KM445T</td>\n",
       "      <td>CP179736</td>\n",
       "      <td>18KM583</td>\n",
       "      <td>Belhout et al. 2025</td>\n",
       "      <td>3395462.0</td>\n",
       "      <td>https://doi.org/10.1099/ijsem.0.006861</td>\n",
       "      <td>http://dx.doi.org/10.1099/ijsem.0.006861</td>\n",
       "    </tr>\n",
       "    <tr>\n",
       "      <th>9</th>\n",
       "      <td>Streptomyces antarcticus</td>\n",
       "      <td>Streptomyces antarcticus</td>\n",
       "      <td>H27-S2T,  DSM 114983T,  CGMCC 4.7867T,  8.5 Mbp</td>\n",
       "      <td>JAPNLM000000000</td>\n",
       "      <td>H27-S2</td>\n",
       "      <td>Sahin et al. 2025</td>\n",
       "      <td>2996458.0</td>\n",
       "      <td>https://doi.org/10.1099/ijsem.0.006856</td>\n",
       "      <td>http://dx.doi.org/10.1099/ijsem.0.006856</td>\n",
       "    </tr>\n",
       "    <tr>\n",
       "      <th>10</th>\n",
       "      <td>Pseudogemmobacter sonorensis</td>\n",
       "      <td>Pseudogemmobacter sonorensis</td>\n",
       "      <td>PA1-206BT,  DSM 115559T,  NCAIM B.02680T</td>\n",
       "      <td>JBEFZE000000000</td>\n",
       "      <td>PA1-206B</td>\n",
       "      <td>Lange-Enyedi et al. 2025</td>\n",
       "      <td>2989681.0</td>\n",
       "      <td>https://doi.org/10.1099/ijsem.0.006859</td>\n",
       "      <td>http://dx.doi.org/10.1099/ijsem.0.006859</td>\n",
       "    </tr>\n",
       "    <tr>\n",
       "      <th>11</th>\n",
       "      <td>Pseudogemmobacter sonorensis</td>\n",
       "      <td>NaN</td>\n",
       "      <td>PA1-206BT,  DSM 115559T,  NCAIM B.02680T</td>\n",
       "      <td>JBEFZE010000000</td>\n",
       "      <td>NaN</td>\n",
       "      <td>Lange-Enyedi et al. 2025</td>\n",
       "      <td>NaN</td>\n",
       "      <td>https://doi.org/10.1099/ijsem.0.006859</td>\n",
       "      <td>http://dx.doi.org/10.1099/ijsem.0.006859</td>\n",
       "    </tr>\n",
       "    <tr>\n",
       "      <th>12</th>\n",
       "      <td>Nioella halotolerans</td>\n",
       "      <td>Nioella aestuarii</td>\n",
       "      <td>W635T,  KCTC 62429T,  MCCC 1K03491T,  JCM30752T,  CGMCC1.16230T</td>\n",
       "      <td>JBPBBA000000000</td>\n",
       "      <td>JCM 30752</td>\n",
       "      <td>Han et al. 2025</td>\n",
       "      <td>1662864.0</td>\n",
       "      <td>https://doi.org/10.1099/ijsem.0.006858</td>\n",
       "      <td>http://dx.doi.org/10.1099/ijsem.0.006858</td>\n",
       "    </tr>\n",
       "    <tr>\n",
       "      <th>13</th>\n",
       "      <td>Nioella halotolerans</td>\n",
       "      <td>Roseovarius tibetensis</td>\n",
       "      <td>W635T,  KCTC 62429T,  MCCC 1K03491T,  JCM30752T,  CGMCC1.16230T</td>\n",
       "      <td>JBPBBB000000000</td>\n",
       "      <td>CGMCC 1.16230</td>\n",
       "      <td>Han et al. 2025</td>\n",
       "      <td>2685897.0</td>\n",
       "      <td>https://doi.org/10.1099/ijsem.0.006858</td>\n",
       "      <td>http://dx.doi.org/10.1099/ijsem.0.006858</td>\n",
       "    </tr>\n",
       "    <tr>\n",
       "      <th>14</th>\n",
       "      <td>Nioella halotolerans</td>\n",
       "      <td>Nioella halotolerans</td>\n",
       "      <td>W635T,  KCTC 62429T,  MCCC 1K03491T,  JCM30752T,  CGMCC1.16230T</td>\n",
       "      <td>MG722799</td>\n",
       "      <td>W635</td>\n",
       "      <td>Han et al. 2025</td>\n",
       "      <td>2303578.0</td>\n",
       "      <td>https://doi.org/10.1099/ijsem.0.006858</td>\n",
       "      <td>http://dx.doi.org/10.1099/ijsem.0.006858</td>\n",
       "    </tr>\n",
       "    <tr>\n",
       "      <th>15</th>\n",
       "      <td>Streptomyces antarcticus</td>\n",
       "      <td>Streptomyces antarcticus</td>\n",
       "      <td>H27-S2T,  DSM 114983T,  CGMCC 4.7867T,  8.5 Mbp</td>\n",
       "      <td>OP093992</td>\n",
       "      <td>H27-S2</td>\n",
       "      <td>Sahin et al. 2025</td>\n",
       "      <td>2996458.0</td>\n",
       "      <td>https://doi.org/10.1099/ijsem.0.006856</td>\n",
       "      <td>http://dx.doi.org/10.1099/ijsem.0.006856</td>\n",
       "    </tr>\n",
       "    <tr>\n",
       "      <th>16</th>\n",
       "      <td>Pseudogemmobacter sonorensis</td>\n",
       "      <td>Pseudogemmobacter sonorensis</td>\n",
       "      <td>PA1-206BT,  DSM 115559T,  NCAIM B.02680T</td>\n",
       "      <td>OP709268</td>\n",
       "      <td>PA1-206B</td>\n",
       "      <td>Lange-Enyedi et al. 2025</td>\n",
       "      <td>2989681.0</td>\n",
       "      <td>https://doi.org/10.1099/ijsem.0.006859</td>\n",
       "      <td>http://dx.doi.org/10.1099/ijsem.0.006859</td>\n",
       "    </tr>\n",
       "    <tr>\n",
       "      <th>17</th>\n",
       "      <td>Nioella halotolerans</td>\n",
       "      <td>Nioella halotolerans</td>\n",
       "      <td>W635T,  KCTC 62429T,  MCCC 1K03491T,  JCM30752T,  CGMCC1.16230T</td>\n",
       "      <td>QVQC00000000</td>\n",
       "      <td>W635</td>\n",
       "      <td>Han et al. 2025</td>\n",
       "      <td>2303578.0</td>\n",
       "      <td>https://doi.org/10.1099/ijsem.0.006858</td>\n",
       "      <td>http://dx.doi.org/10.1099/ijsem.0.006858</td>\n",
       "    </tr>\n",
       "    <tr>\n",
       "      <th>18</th>\n",
       "      <td>NaN</td>\n",
       "      <td>NaN</td>\n",
       "      <td>NCTC 11411T</td>\n",
       "      <td>NaN</td>\n",
       "      <td>NaN</td>\n",
       "      <td>Bisgaard and Christensen 2025</td>\n",
       "      <td>NaN</td>\n",
       "      <td>https://doi.org/10.1099/ijsem.0.006867</td>\n",
       "      <td>http://dx.doi.org/10.1099/ijsem.0.006867</td>\n",
       "    </tr>\n",
       "  </tbody>\n",
       "</table>\n",
       "</div>"
      ],
      "text/plain": [
       "                    PublishedName                      NCBIname  \\\n",
       "0           Macrococcus animalis           Macrococcus animalis   \n",
       "1           Macrococcus animalis           Macrococcus animalis   \n",
       "2           Macrococcus animalis           Macrococcus animalis   \n",
       "3           Macrococcus animalis           Macrococcus animalis   \n",
       "4               Macrococcus equi               Macrococcus equi   \n",
       "5               Macrococcus equi               Macrococcus equi   \n",
       "6               Macrococcus equi               Macrococcus equi   \n",
       "7               Macrococcus equi               Macrococcus equi   \n",
       "8               Macrococcus equi               Macrococcus equi   \n",
       "9       Streptomyces antarcticus       Streptomyces antarcticus   \n",
       "10  Pseudogemmobacter sonorensis   Pseudogemmobacter sonorensis   \n",
       "11  Pseudogemmobacter sonorensis                            NaN   \n",
       "12          Nioella halotolerans              Nioella aestuarii   \n",
       "13          Nioella halotolerans         Roseovarius tibetensis   \n",
       "14          Nioella halotolerans           Nioella halotolerans   \n",
       "15      Streptomyces antarcticus       Streptomyces antarcticus   \n",
       "16  Pseudogemmobacter sonorensis   Pseudogemmobacter sonorensis   \n",
       "17          Nioella halotolerans           Nioella halotolerans   \n",
       "18                            NaN                           NaN   \n",
       "\n",
       "                                                            Strains  \\\n",
       "0                 EM39E,  DSM 118743,  CCOS 2125,  CCM 9439,  JEK85   \n",
       "1                 EM39E,  DSM 118743,  CCOS 2125,  CCM 9439,  JEK85   \n",
       "2                 EM39E,  DSM 118743,  CCOS 2125,  CCM 9439,  JEK85   \n",
       "3                 EM39E,  DSM 118743,  CCOS 2125,  CCM 9439,  JEK85   \n",
       "4                       18KM445,  DSM 118744,  CCOS 2124,  18KM445T   \n",
       "5                       18KM445,  DSM 118744,  CCOS 2124,  18KM445T   \n",
       "6                       18KM445,  DSM 118744,  CCOS 2124,  18KM445T   \n",
       "7                       18KM445,  DSM 118744,  CCOS 2124,  18KM445T   \n",
       "8                       18KM445,  DSM 118744,  CCOS 2124,  18KM445T   \n",
       "9                   H27-S2T,  DSM 114983T,  CGMCC 4.7867T,  8.5 Mbp   \n",
       "10                         PA1-206BT,  DSM 115559T,  NCAIM B.02680T   \n",
       "11                         PA1-206BT,  DSM 115559T,  NCAIM B.02680T   \n",
       "12  W635T,  KCTC 62429T,  MCCC 1K03491T,  JCM30752T,  CGMCC1.16230T   \n",
       "13  W635T,  KCTC 62429T,  MCCC 1K03491T,  JCM30752T,  CGMCC1.16230T   \n",
       "14  W635T,  KCTC 62429T,  MCCC 1K03491T,  JCM30752T,  CGMCC1.16230T   \n",
       "15                  H27-S2T,  DSM 114983T,  CGMCC 4.7867T,  8.5 Mbp   \n",
       "16                         PA1-206BT,  DSM 115559T,  NCAIM B.02680T   \n",
       "17  W635T,  KCTC 62429T,  MCCC 1K03491T,  JCM30752T,  CGMCC1.16230T   \n",
       "18                                                      NCTC 11411T   \n",
       "\n",
       "          accession         strain                      Authority      taxid  \\\n",
       "0          CP179724        21M1142            Belhout et al. 2025  3395467.0   \n",
       "1          CP179725          JEK85            Belhout et al. 2025  3395467.0   \n",
       "2          CP179727          EM39E            Belhout et al. 2025  3395467.0   \n",
       "3          CP179728        18KM676            Belhout et al. 2025  3395467.0   \n",
       "4          CP179731        18KM245            Belhout et al. 2025  3395462.0   \n",
       "5          CP179732       21KM1573            Belhout et al. 2025  3395462.0   \n",
       "6          CP179734        18KM444            Belhout et al. 2025  3395462.0   \n",
       "7          CP179735        18KM445            Belhout et al. 2025  3395462.0   \n",
       "8          CP179736        18KM583            Belhout et al. 2025  3395462.0   \n",
       "9   JAPNLM000000000         H27-S2              Sahin et al. 2025  2996458.0   \n",
       "10  JBEFZE000000000       PA1-206B       Lange-Enyedi et al. 2025  2989681.0   \n",
       "11  JBEFZE010000000            NaN       Lange-Enyedi et al. 2025        NaN   \n",
       "12  JBPBBA000000000      JCM 30752                Han et al. 2025  1662864.0   \n",
       "13  JBPBBB000000000  CGMCC 1.16230                Han et al. 2025  2685897.0   \n",
       "14         MG722799           W635                Han et al. 2025  2303578.0   \n",
       "15         OP093992         H27-S2              Sahin et al. 2025  2996458.0   \n",
       "16         OP709268       PA1-206B       Lange-Enyedi et al. 2025  2989681.0   \n",
       "17     QVQC00000000           W635                Han et al. 2025  2303578.0   \n",
       "18              NaN            NaN  Bisgaard and Christensen 2025        NaN   \n",
       "\n",
       "                                       DOI  \\\n",
       "0   https://doi.org/10.1099/ijsem.0.006861   \n",
       "1   https://doi.org/10.1099/ijsem.0.006861   \n",
       "2   https://doi.org/10.1099/ijsem.0.006861   \n",
       "3   https://doi.org/10.1099/ijsem.0.006861   \n",
       "4   https://doi.org/10.1099/ijsem.0.006861   \n",
       "5   https://doi.org/10.1099/ijsem.0.006861   \n",
       "6   https://doi.org/10.1099/ijsem.0.006861   \n",
       "7   https://doi.org/10.1099/ijsem.0.006861   \n",
       "8   https://doi.org/10.1099/ijsem.0.006861   \n",
       "9   https://doi.org/10.1099/ijsem.0.006856   \n",
       "10  https://doi.org/10.1099/ijsem.0.006859   \n",
       "11  https://doi.org/10.1099/ijsem.0.006859   \n",
       "12  https://doi.org/10.1099/ijsem.0.006858   \n",
       "13  https://doi.org/10.1099/ijsem.0.006858   \n",
       "14  https://doi.org/10.1099/ijsem.0.006858   \n",
       "15  https://doi.org/10.1099/ijsem.0.006856   \n",
       "16  https://doi.org/10.1099/ijsem.0.006859   \n",
       "17  https://doi.org/10.1099/ijsem.0.006858   \n",
       "18  https://doi.org/10.1099/ijsem.0.006867   \n",
       "\n",
       "                                filtered_url  \n",
       "0   http://dx.doi.org/10.1099/ijsem.0.006861  \n",
       "1   http://dx.doi.org/10.1099/ijsem.0.006861  \n",
       "2   http://dx.doi.org/10.1099/ijsem.0.006861  \n",
       "3   http://dx.doi.org/10.1099/ijsem.0.006861  \n",
       "4   http://dx.doi.org/10.1099/ijsem.0.006861  \n",
       "5   http://dx.doi.org/10.1099/ijsem.0.006861  \n",
       "6   http://dx.doi.org/10.1099/ijsem.0.006861  \n",
       "7   http://dx.doi.org/10.1099/ijsem.0.006861  \n",
       "8   http://dx.doi.org/10.1099/ijsem.0.006861  \n",
       "9   http://dx.doi.org/10.1099/ijsem.0.006856  \n",
       "10  http://dx.doi.org/10.1099/ijsem.0.006859  \n",
       "11  http://dx.doi.org/10.1099/ijsem.0.006859  \n",
       "12  http://dx.doi.org/10.1099/ijsem.0.006858  \n",
       "13  http://dx.doi.org/10.1099/ijsem.0.006858  \n",
       "14  http://dx.doi.org/10.1099/ijsem.0.006858  \n",
       "15  http://dx.doi.org/10.1099/ijsem.0.006856  \n",
       "16  http://dx.doi.org/10.1099/ijsem.0.006859  \n",
       "17  http://dx.doi.org/10.1099/ijsem.0.006858  \n",
       "18  http://dx.doi.org/10.1099/ijsem.0.006867  "
      ]
     },
     "execution_count": 17,
     "metadata": {},
     "output_type": "execute_result"
    }
   ],
   "source": [
    "combine_df=pd.merge(left=pub4_df, right=srcchk_df, left_on='accession', right_on='accession', how = 'outer')\n",
    "combine_df = combine_df[['PublishedName', 'NCBIname', 'Strains', 'accession', 'strain', 'Authority', 'taxid', 'DOI', 'filtered_url' ]]\n",
    "combine_df"
   ]
  },
  {
   "cell_type": "code",
   "execution_count": 18,
   "id": "8d07fbae",
   "metadata": {},
   "outputs": [
    {
     "data": {
      "text/html": [
       "<style type=\"text/css\">\n",
       "#T_feec8_row0_col0, #T_feec8_row0_col1, #T_feec8_row1_col0, #T_feec8_row1_col1, #T_feec8_row2_col0, #T_feec8_row2_col1, #T_feec8_row3_col0, #T_feec8_row3_col1, #T_feec8_row4_col0, #T_feec8_row4_col1, #T_feec8_row5_col0, #T_feec8_row5_col1, #T_feec8_row6_col0, #T_feec8_row6_col1, #T_feec8_row7_col0, #T_feec8_row7_col1, #T_feec8_row8_col0, #T_feec8_row8_col1, #T_feec8_row9_col0, #T_feec8_row9_col1, #T_feec8_row10_col0, #T_feec8_row10_col1, #T_feec8_row11_col0, #T_feec8_row11_col1, #T_feec8_row12_col0, #T_feec8_row12_col1, #T_feec8_row13_col0, #T_feec8_row13_col1, #T_feec8_row14_col0, #T_feec8_row14_col1, #T_feec8_row15_col0, #T_feec8_row15_col1, #T_feec8_row16_col0, #T_feec8_row16_col1, #T_feec8_row17_col0, #T_feec8_row17_col1, #T_feec8_row18_col0, #T_feec8_row18_col1 {\n",
       "  background-color: #FFB3BA;\n",
       "}\n",
       "</style>\n",
       "<table id=\"T_feec8\">\n",
       "  <thead>\n",
       "    <tr>\n",
       "      <th class=\"blank level0\" >&nbsp;</th>\n",
       "      <th id=\"T_feec8_level0_col0\" class=\"col_heading level0 col0\" >PublishedName</th>\n",
       "      <th id=\"T_feec8_level0_col1\" class=\"col_heading level0 col1\" >NCBIname</th>\n",
       "      <th id=\"T_feec8_level0_col2\" class=\"col_heading level0 col2\" >Strains</th>\n",
       "      <th id=\"T_feec8_level0_col3\" class=\"col_heading level0 col3\" >accession</th>\n",
       "      <th id=\"T_feec8_level0_col4\" class=\"col_heading level0 col4\" >strain</th>\n",
       "      <th id=\"T_feec8_level0_col5\" class=\"col_heading level0 col5\" >Authority</th>\n",
       "      <th id=\"T_feec8_level0_col6\" class=\"col_heading level0 col6\" >taxid</th>\n",
       "      <th id=\"T_feec8_level0_col7\" class=\"col_heading level0 col7\" >DOI</th>\n",
       "      <th id=\"T_feec8_level0_col8\" class=\"col_heading level0 col8\" >filtered_url</th>\n",
       "    </tr>\n",
       "  </thead>\n",
       "  <tbody>\n",
       "    <tr>\n",
       "      <th id=\"T_feec8_level0_row0\" class=\"row_heading level0 row0\" >0</th>\n",
       "      <td id=\"T_feec8_row0_col0\" class=\"data row0 col0\" >Macrococcus animalis </td>\n",
       "      <td id=\"T_feec8_row0_col1\" class=\"data row0 col1\" >Macrococcus animalis</td>\n",
       "      <td id=\"T_feec8_row0_col2\" class=\"data row0 col2\" >EM39E,  DSM 118743,  CCOS 2125,  CCM 9439,  JEK85</td>\n",
       "      <td id=\"T_feec8_row0_col3\" class=\"data row0 col3\" >CP179724</td>\n",
       "      <td id=\"T_feec8_row0_col4\" class=\"data row0 col4\" >21M1142</td>\n",
       "      <td id=\"T_feec8_row0_col5\" class=\"data row0 col5\" >Belhout et al. 2025</td>\n",
       "      <td id=\"T_feec8_row0_col6\" class=\"data row0 col6\" >3395467.000000</td>\n",
       "      <td id=\"T_feec8_row0_col7\" class=\"data row0 col7\" >https://doi.org/10.1099/ijsem.0.006861</td>\n",
       "      <td id=\"T_feec8_row0_col8\" class=\"data row0 col8\" >http://dx.doi.org/10.1099/ijsem.0.006861</td>\n",
       "    </tr>\n",
       "    <tr>\n",
       "      <th id=\"T_feec8_level0_row1\" class=\"row_heading level0 row1\" >1</th>\n",
       "      <td id=\"T_feec8_row1_col0\" class=\"data row1 col0\" >Macrococcus animalis </td>\n",
       "      <td id=\"T_feec8_row1_col1\" class=\"data row1 col1\" >Macrococcus animalis</td>\n",
       "      <td id=\"T_feec8_row1_col2\" class=\"data row1 col2\" >EM39E,  DSM 118743,  CCOS 2125,  CCM 9439,  JEK85</td>\n",
       "      <td id=\"T_feec8_row1_col3\" class=\"data row1 col3\" >CP179725</td>\n",
       "      <td id=\"T_feec8_row1_col4\" class=\"data row1 col4\" >JEK85</td>\n",
       "      <td id=\"T_feec8_row1_col5\" class=\"data row1 col5\" >Belhout et al. 2025</td>\n",
       "      <td id=\"T_feec8_row1_col6\" class=\"data row1 col6\" >3395467.000000</td>\n",
       "      <td id=\"T_feec8_row1_col7\" class=\"data row1 col7\" >https://doi.org/10.1099/ijsem.0.006861</td>\n",
       "      <td id=\"T_feec8_row1_col8\" class=\"data row1 col8\" >http://dx.doi.org/10.1099/ijsem.0.006861</td>\n",
       "    </tr>\n",
       "    <tr>\n",
       "      <th id=\"T_feec8_level0_row2\" class=\"row_heading level0 row2\" >2</th>\n",
       "      <td id=\"T_feec8_row2_col0\" class=\"data row2 col0\" >Macrococcus animalis </td>\n",
       "      <td id=\"T_feec8_row2_col1\" class=\"data row2 col1\" >Macrococcus animalis</td>\n",
       "      <td id=\"T_feec8_row2_col2\" class=\"data row2 col2\" >EM39E,  DSM 118743,  CCOS 2125,  CCM 9439,  JEK85</td>\n",
       "      <td id=\"T_feec8_row2_col3\" class=\"data row2 col3\" >CP179727</td>\n",
       "      <td id=\"T_feec8_row2_col4\" class=\"data row2 col4\" >EM39E</td>\n",
       "      <td id=\"T_feec8_row2_col5\" class=\"data row2 col5\" >Belhout et al. 2025</td>\n",
       "      <td id=\"T_feec8_row2_col6\" class=\"data row2 col6\" >3395467.000000</td>\n",
       "      <td id=\"T_feec8_row2_col7\" class=\"data row2 col7\" >https://doi.org/10.1099/ijsem.0.006861</td>\n",
       "      <td id=\"T_feec8_row2_col8\" class=\"data row2 col8\" >http://dx.doi.org/10.1099/ijsem.0.006861</td>\n",
       "    </tr>\n",
       "    <tr>\n",
       "      <th id=\"T_feec8_level0_row3\" class=\"row_heading level0 row3\" >3</th>\n",
       "      <td id=\"T_feec8_row3_col0\" class=\"data row3 col0\" >Macrococcus animalis </td>\n",
       "      <td id=\"T_feec8_row3_col1\" class=\"data row3 col1\" >Macrococcus animalis</td>\n",
       "      <td id=\"T_feec8_row3_col2\" class=\"data row3 col2\" >EM39E,  DSM 118743,  CCOS 2125,  CCM 9439,  JEK85</td>\n",
       "      <td id=\"T_feec8_row3_col3\" class=\"data row3 col3\" >CP179728</td>\n",
       "      <td id=\"T_feec8_row3_col4\" class=\"data row3 col4\" >18KM676</td>\n",
       "      <td id=\"T_feec8_row3_col5\" class=\"data row3 col5\" >Belhout et al. 2025</td>\n",
       "      <td id=\"T_feec8_row3_col6\" class=\"data row3 col6\" >3395467.000000</td>\n",
       "      <td id=\"T_feec8_row3_col7\" class=\"data row3 col7\" >https://doi.org/10.1099/ijsem.0.006861</td>\n",
       "      <td id=\"T_feec8_row3_col8\" class=\"data row3 col8\" >http://dx.doi.org/10.1099/ijsem.0.006861</td>\n",
       "    </tr>\n",
       "    <tr>\n",
       "      <th id=\"T_feec8_level0_row4\" class=\"row_heading level0 row4\" >4</th>\n",
       "      <td id=\"T_feec8_row4_col0\" class=\"data row4 col0\" >Macrococcus equi </td>\n",
       "      <td id=\"T_feec8_row4_col1\" class=\"data row4 col1\" >Macrococcus equi</td>\n",
       "      <td id=\"T_feec8_row4_col2\" class=\"data row4 col2\" >18KM445,  DSM 118744,  CCOS 2124,  18KM445T</td>\n",
       "      <td id=\"T_feec8_row4_col3\" class=\"data row4 col3\" >CP179731</td>\n",
       "      <td id=\"T_feec8_row4_col4\" class=\"data row4 col4\" >18KM245</td>\n",
       "      <td id=\"T_feec8_row4_col5\" class=\"data row4 col5\" >Belhout et al. 2025</td>\n",
       "      <td id=\"T_feec8_row4_col6\" class=\"data row4 col6\" >3395462.000000</td>\n",
       "      <td id=\"T_feec8_row4_col7\" class=\"data row4 col7\" >https://doi.org/10.1099/ijsem.0.006861</td>\n",
       "      <td id=\"T_feec8_row4_col8\" class=\"data row4 col8\" >http://dx.doi.org/10.1099/ijsem.0.006861</td>\n",
       "    </tr>\n",
       "    <tr>\n",
       "      <th id=\"T_feec8_level0_row5\" class=\"row_heading level0 row5\" >5</th>\n",
       "      <td id=\"T_feec8_row5_col0\" class=\"data row5 col0\" >Macrococcus equi </td>\n",
       "      <td id=\"T_feec8_row5_col1\" class=\"data row5 col1\" >Macrococcus equi</td>\n",
       "      <td id=\"T_feec8_row5_col2\" class=\"data row5 col2\" >18KM445,  DSM 118744,  CCOS 2124,  18KM445T</td>\n",
       "      <td id=\"T_feec8_row5_col3\" class=\"data row5 col3\" >CP179732</td>\n",
       "      <td id=\"T_feec8_row5_col4\" class=\"data row5 col4\" >21KM1573</td>\n",
       "      <td id=\"T_feec8_row5_col5\" class=\"data row5 col5\" >Belhout et al. 2025</td>\n",
       "      <td id=\"T_feec8_row5_col6\" class=\"data row5 col6\" >3395462.000000</td>\n",
       "      <td id=\"T_feec8_row5_col7\" class=\"data row5 col7\" >https://doi.org/10.1099/ijsem.0.006861</td>\n",
       "      <td id=\"T_feec8_row5_col8\" class=\"data row5 col8\" >http://dx.doi.org/10.1099/ijsem.0.006861</td>\n",
       "    </tr>\n",
       "    <tr>\n",
       "      <th id=\"T_feec8_level0_row6\" class=\"row_heading level0 row6\" >6</th>\n",
       "      <td id=\"T_feec8_row6_col0\" class=\"data row6 col0\" >Macrococcus equi </td>\n",
       "      <td id=\"T_feec8_row6_col1\" class=\"data row6 col1\" >Macrococcus equi</td>\n",
       "      <td id=\"T_feec8_row6_col2\" class=\"data row6 col2\" >18KM445,  DSM 118744,  CCOS 2124,  18KM445T</td>\n",
       "      <td id=\"T_feec8_row6_col3\" class=\"data row6 col3\" >CP179734</td>\n",
       "      <td id=\"T_feec8_row6_col4\" class=\"data row6 col4\" >18KM444</td>\n",
       "      <td id=\"T_feec8_row6_col5\" class=\"data row6 col5\" >Belhout et al. 2025</td>\n",
       "      <td id=\"T_feec8_row6_col6\" class=\"data row6 col6\" >3395462.000000</td>\n",
       "      <td id=\"T_feec8_row6_col7\" class=\"data row6 col7\" >https://doi.org/10.1099/ijsem.0.006861</td>\n",
       "      <td id=\"T_feec8_row6_col8\" class=\"data row6 col8\" >http://dx.doi.org/10.1099/ijsem.0.006861</td>\n",
       "    </tr>\n",
       "    <tr>\n",
       "      <th id=\"T_feec8_level0_row7\" class=\"row_heading level0 row7\" >7</th>\n",
       "      <td id=\"T_feec8_row7_col0\" class=\"data row7 col0\" >Macrococcus equi </td>\n",
       "      <td id=\"T_feec8_row7_col1\" class=\"data row7 col1\" >Macrococcus equi</td>\n",
       "      <td id=\"T_feec8_row7_col2\" class=\"data row7 col2\" >18KM445,  DSM 118744,  CCOS 2124,  18KM445T</td>\n",
       "      <td id=\"T_feec8_row7_col3\" class=\"data row7 col3\" >CP179735</td>\n",
       "      <td id=\"T_feec8_row7_col4\" class=\"data row7 col4\" >18KM445</td>\n",
       "      <td id=\"T_feec8_row7_col5\" class=\"data row7 col5\" >Belhout et al. 2025</td>\n",
       "      <td id=\"T_feec8_row7_col6\" class=\"data row7 col6\" >3395462.000000</td>\n",
       "      <td id=\"T_feec8_row7_col7\" class=\"data row7 col7\" >https://doi.org/10.1099/ijsem.0.006861</td>\n",
       "      <td id=\"T_feec8_row7_col8\" class=\"data row7 col8\" >http://dx.doi.org/10.1099/ijsem.0.006861</td>\n",
       "    </tr>\n",
       "    <tr>\n",
       "      <th id=\"T_feec8_level0_row8\" class=\"row_heading level0 row8\" >8</th>\n",
       "      <td id=\"T_feec8_row8_col0\" class=\"data row8 col0\" >Macrococcus equi </td>\n",
       "      <td id=\"T_feec8_row8_col1\" class=\"data row8 col1\" >Macrococcus equi</td>\n",
       "      <td id=\"T_feec8_row8_col2\" class=\"data row8 col2\" >18KM445,  DSM 118744,  CCOS 2124,  18KM445T</td>\n",
       "      <td id=\"T_feec8_row8_col3\" class=\"data row8 col3\" >CP179736</td>\n",
       "      <td id=\"T_feec8_row8_col4\" class=\"data row8 col4\" >18KM583</td>\n",
       "      <td id=\"T_feec8_row8_col5\" class=\"data row8 col5\" >Belhout et al. 2025</td>\n",
       "      <td id=\"T_feec8_row8_col6\" class=\"data row8 col6\" >3395462.000000</td>\n",
       "      <td id=\"T_feec8_row8_col7\" class=\"data row8 col7\" >https://doi.org/10.1099/ijsem.0.006861</td>\n",
       "      <td id=\"T_feec8_row8_col8\" class=\"data row8 col8\" >http://dx.doi.org/10.1099/ijsem.0.006861</td>\n",
       "    </tr>\n",
       "    <tr>\n",
       "      <th id=\"T_feec8_level0_row9\" class=\"row_heading level0 row9\" >9</th>\n",
       "      <td id=\"T_feec8_row9_col0\" class=\"data row9 col0\" >Streptomyces antarcticus </td>\n",
       "      <td id=\"T_feec8_row9_col1\" class=\"data row9 col1\" >Streptomyces antarcticus</td>\n",
       "      <td id=\"T_feec8_row9_col2\" class=\"data row9 col2\" >H27-S2T,  DSM 114983T,  CGMCC 4.7867T,  8.5 Mbp</td>\n",
       "      <td id=\"T_feec8_row9_col3\" class=\"data row9 col3\" >JAPNLM000000000</td>\n",
       "      <td id=\"T_feec8_row9_col4\" class=\"data row9 col4\" >H27-S2</td>\n",
       "      <td id=\"T_feec8_row9_col5\" class=\"data row9 col5\" >Sahin et al. 2025</td>\n",
       "      <td id=\"T_feec8_row9_col6\" class=\"data row9 col6\" >2996458.000000</td>\n",
       "      <td id=\"T_feec8_row9_col7\" class=\"data row9 col7\" >https://doi.org/10.1099/ijsem.0.006856</td>\n",
       "      <td id=\"T_feec8_row9_col8\" class=\"data row9 col8\" >http://dx.doi.org/10.1099/ijsem.0.006856</td>\n",
       "    </tr>\n",
       "    <tr>\n",
       "      <th id=\"T_feec8_level0_row10\" class=\"row_heading level0 row10\" >10</th>\n",
       "      <td id=\"T_feec8_row10_col0\" class=\"data row10 col0\" >Pseudogemmobacter sonorensis </td>\n",
       "      <td id=\"T_feec8_row10_col1\" class=\"data row10 col1\" >Pseudogemmobacter sonorensis</td>\n",
       "      <td id=\"T_feec8_row10_col2\" class=\"data row10 col2\" >PA1-206BT,  DSM 115559T,  NCAIM B.02680T</td>\n",
       "      <td id=\"T_feec8_row10_col3\" class=\"data row10 col3\" >JBEFZE000000000</td>\n",
       "      <td id=\"T_feec8_row10_col4\" class=\"data row10 col4\" >PA1-206B</td>\n",
       "      <td id=\"T_feec8_row10_col5\" class=\"data row10 col5\" >Lange-Enyedi et al. 2025</td>\n",
       "      <td id=\"T_feec8_row10_col6\" class=\"data row10 col6\" >2989681.000000</td>\n",
       "      <td id=\"T_feec8_row10_col7\" class=\"data row10 col7\" >https://doi.org/10.1099/ijsem.0.006859</td>\n",
       "      <td id=\"T_feec8_row10_col8\" class=\"data row10 col8\" >http://dx.doi.org/10.1099/ijsem.0.006859</td>\n",
       "    </tr>\n",
       "    <tr>\n",
       "      <th id=\"T_feec8_level0_row11\" class=\"row_heading level0 row11\" >11</th>\n",
       "      <td id=\"T_feec8_row11_col0\" class=\"data row11 col0\" >Pseudogemmobacter sonorensis </td>\n",
       "      <td id=\"T_feec8_row11_col1\" class=\"data row11 col1\" >nan</td>\n",
       "      <td id=\"T_feec8_row11_col2\" class=\"data row11 col2\" >PA1-206BT,  DSM 115559T,  NCAIM B.02680T</td>\n",
       "      <td id=\"T_feec8_row11_col3\" class=\"data row11 col3\" >JBEFZE010000000</td>\n",
       "      <td id=\"T_feec8_row11_col4\" class=\"data row11 col4\" >nan</td>\n",
       "      <td id=\"T_feec8_row11_col5\" class=\"data row11 col5\" >Lange-Enyedi et al. 2025</td>\n",
       "      <td id=\"T_feec8_row11_col6\" class=\"data row11 col6\" >nan</td>\n",
       "      <td id=\"T_feec8_row11_col7\" class=\"data row11 col7\" >https://doi.org/10.1099/ijsem.0.006859</td>\n",
       "      <td id=\"T_feec8_row11_col8\" class=\"data row11 col8\" >http://dx.doi.org/10.1099/ijsem.0.006859</td>\n",
       "    </tr>\n",
       "    <tr>\n",
       "      <th id=\"T_feec8_level0_row12\" class=\"row_heading level0 row12\" >12</th>\n",
       "      <td id=\"T_feec8_row12_col0\" class=\"data row12 col0\" >Nioella halotolerans </td>\n",
       "      <td id=\"T_feec8_row12_col1\" class=\"data row12 col1\" >Nioella aestuarii</td>\n",
       "      <td id=\"T_feec8_row12_col2\" class=\"data row12 col2\" >W635T,  KCTC 62429T,  MCCC 1K03491T,  JCM30752T,  CGMCC1.16230T</td>\n",
       "      <td id=\"T_feec8_row12_col3\" class=\"data row12 col3\" >JBPBBA000000000</td>\n",
       "      <td id=\"T_feec8_row12_col4\" class=\"data row12 col4\" >JCM 30752</td>\n",
       "      <td id=\"T_feec8_row12_col5\" class=\"data row12 col5\" >Han et al. 2025</td>\n",
       "      <td id=\"T_feec8_row12_col6\" class=\"data row12 col6\" >1662864.000000</td>\n",
       "      <td id=\"T_feec8_row12_col7\" class=\"data row12 col7\" >https://doi.org/10.1099/ijsem.0.006858</td>\n",
       "      <td id=\"T_feec8_row12_col8\" class=\"data row12 col8\" >http://dx.doi.org/10.1099/ijsem.0.006858</td>\n",
       "    </tr>\n",
       "    <tr>\n",
       "      <th id=\"T_feec8_level0_row13\" class=\"row_heading level0 row13\" >13</th>\n",
       "      <td id=\"T_feec8_row13_col0\" class=\"data row13 col0\" >Nioella halotolerans </td>\n",
       "      <td id=\"T_feec8_row13_col1\" class=\"data row13 col1\" >Roseovarius tibetensis</td>\n",
       "      <td id=\"T_feec8_row13_col2\" class=\"data row13 col2\" >W635T,  KCTC 62429T,  MCCC 1K03491T,  JCM30752T,  CGMCC1.16230T</td>\n",
       "      <td id=\"T_feec8_row13_col3\" class=\"data row13 col3\" >JBPBBB000000000</td>\n",
       "      <td id=\"T_feec8_row13_col4\" class=\"data row13 col4\" >CGMCC 1.16230</td>\n",
       "      <td id=\"T_feec8_row13_col5\" class=\"data row13 col5\" >Han et al. 2025</td>\n",
       "      <td id=\"T_feec8_row13_col6\" class=\"data row13 col6\" >2685897.000000</td>\n",
       "      <td id=\"T_feec8_row13_col7\" class=\"data row13 col7\" >https://doi.org/10.1099/ijsem.0.006858</td>\n",
       "      <td id=\"T_feec8_row13_col8\" class=\"data row13 col8\" >http://dx.doi.org/10.1099/ijsem.0.006858</td>\n",
       "    </tr>\n",
       "    <tr>\n",
       "      <th id=\"T_feec8_level0_row14\" class=\"row_heading level0 row14\" >14</th>\n",
       "      <td id=\"T_feec8_row14_col0\" class=\"data row14 col0\" >Nioella halotolerans </td>\n",
       "      <td id=\"T_feec8_row14_col1\" class=\"data row14 col1\" >Nioella halotolerans</td>\n",
       "      <td id=\"T_feec8_row14_col2\" class=\"data row14 col2\" >W635T,  KCTC 62429T,  MCCC 1K03491T,  JCM30752T,  CGMCC1.16230T</td>\n",
       "      <td id=\"T_feec8_row14_col3\" class=\"data row14 col3\" >MG722799</td>\n",
       "      <td id=\"T_feec8_row14_col4\" class=\"data row14 col4\" >W635</td>\n",
       "      <td id=\"T_feec8_row14_col5\" class=\"data row14 col5\" >Han et al. 2025</td>\n",
       "      <td id=\"T_feec8_row14_col6\" class=\"data row14 col6\" >2303578.000000</td>\n",
       "      <td id=\"T_feec8_row14_col7\" class=\"data row14 col7\" >https://doi.org/10.1099/ijsem.0.006858</td>\n",
       "      <td id=\"T_feec8_row14_col8\" class=\"data row14 col8\" >http://dx.doi.org/10.1099/ijsem.0.006858</td>\n",
       "    </tr>\n",
       "    <tr>\n",
       "      <th id=\"T_feec8_level0_row15\" class=\"row_heading level0 row15\" >15</th>\n",
       "      <td id=\"T_feec8_row15_col0\" class=\"data row15 col0\" >Streptomyces antarcticus </td>\n",
       "      <td id=\"T_feec8_row15_col1\" class=\"data row15 col1\" >Streptomyces antarcticus</td>\n",
       "      <td id=\"T_feec8_row15_col2\" class=\"data row15 col2\" >H27-S2T,  DSM 114983T,  CGMCC 4.7867T,  8.5 Mbp</td>\n",
       "      <td id=\"T_feec8_row15_col3\" class=\"data row15 col3\" >OP093992</td>\n",
       "      <td id=\"T_feec8_row15_col4\" class=\"data row15 col4\" >H27-S2</td>\n",
       "      <td id=\"T_feec8_row15_col5\" class=\"data row15 col5\" >Sahin et al. 2025</td>\n",
       "      <td id=\"T_feec8_row15_col6\" class=\"data row15 col6\" >2996458.000000</td>\n",
       "      <td id=\"T_feec8_row15_col7\" class=\"data row15 col7\" >https://doi.org/10.1099/ijsem.0.006856</td>\n",
       "      <td id=\"T_feec8_row15_col8\" class=\"data row15 col8\" >http://dx.doi.org/10.1099/ijsem.0.006856</td>\n",
       "    </tr>\n",
       "    <tr>\n",
       "      <th id=\"T_feec8_level0_row16\" class=\"row_heading level0 row16\" >16</th>\n",
       "      <td id=\"T_feec8_row16_col0\" class=\"data row16 col0\" >Pseudogemmobacter sonorensis </td>\n",
       "      <td id=\"T_feec8_row16_col1\" class=\"data row16 col1\" >Pseudogemmobacter sonorensis</td>\n",
       "      <td id=\"T_feec8_row16_col2\" class=\"data row16 col2\" >PA1-206BT,  DSM 115559T,  NCAIM B.02680T</td>\n",
       "      <td id=\"T_feec8_row16_col3\" class=\"data row16 col3\" >OP709268</td>\n",
       "      <td id=\"T_feec8_row16_col4\" class=\"data row16 col4\" >PA1-206B</td>\n",
       "      <td id=\"T_feec8_row16_col5\" class=\"data row16 col5\" >Lange-Enyedi et al. 2025</td>\n",
       "      <td id=\"T_feec8_row16_col6\" class=\"data row16 col6\" >2989681.000000</td>\n",
       "      <td id=\"T_feec8_row16_col7\" class=\"data row16 col7\" >https://doi.org/10.1099/ijsem.0.006859</td>\n",
       "      <td id=\"T_feec8_row16_col8\" class=\"data row16 col8\" >http://dx.doi.org/10.1099/ijsem.0.006859</td>\n",
       "    </tr>\n",
       "    <tr>\n",
       "      <th id=\"T_feec8_level0_row17\" class=\"row_heading level0 row17\" >17</th>\n",
       "      <td id=\"T_feec8_row17_col0\" class=\"data row17 col0\" >Nioella halotolerans </td>\n",
       "      <td id=\"T_feec8_row17_col1\" class=\"data row17 col1\" >Nioella halotolerans</td>\n",
       "      <td id=\"T_feec8_row17_col2\" class=\"data row17 col2\" >W635T,  KCTC 62429T,  MCCC 1K03491T,  JCM30752T,  CGMCC1.16230T</td>\n",
       "      <td id=\"T_feec8_row17_col3\" class=\"data row17 col3\" >QVQC00000000</td>\n",
       "      <td id=\"T_feec8_row17_col4\" class=\"data row17 col4\" >W635</td>\n",
       "      <td id=\"T_feec8_row17_col5\" class=\"data row17 col5\" >Han et al. 2025</td>\n",
       "      <td id=\"T_feec8_row17_col6\" class=\"data row17 col6\" >2303578.000000</td>\n",
       "      <td id=\"T_feec8_row17_col7\" class=\"data row17 col7\" >https://doi.org/10.1099/ijsem.0.006858</td>\n",
       "      <td id=\"T_feec8_row17_col8\" class=\"data row17 col8\" >http://dx.doi.org/10.1099/ijsem.0.006858</td>\n",
       "    </tr>\n",
       "    <tr>\n",
       "      <th id=\"T_feec8_level0_row18\" class=\"row_heading level0 row18\" >18</th>\n",
       "      <td id=\"T_feec8_row18_col0\" class=\"data row18 col0\" >nan</td>\n",
       "      <td id=\"T_feec8_row18_col1\" class=\"data row18 col1\" >nan</td>\n",
       "      <td id=\"T_feec8_row18_col2\" class=\"data row18 col2\" >NCTC 11411T</td>\n",
       "      <td id=\"T_feec8_row18_col3\" class=\"data row18 col3\" >nan</td>\n",
       "      <td id=\"T_feec8_row18_col4\" class=\"data row18 col4\" >nan</td>\n",
       "      <td id=\"T_feec8_row18_col5\" class=\"data row18 col5\" >Bisgaard and Christensen 2025</td>\n",
       "      <td id=\"T_feec8_row18_col6\" class=\"data row18 col6\" >nan</td>\n",
       "      <td id=\"T_feec8_row18_col7\" class=\"data row18 col7\" >https://doi.org/10.1099/ijsem.0.006867</td>\n",
       "      <td id=\"T_feec8_row18_col8\" class=\"data row18 col8\" >http://dx.doi.org/10.1099/ijsem.0.006867</td>\n",
       "    </tr>\n",
       "  </tbody>\n",
       "</table>\n"
      ],
      "text/plain": [
       "<pandas.io.formats.style.Styler at 0x7f89eeea7490>"
      ]
     },
     "execution_count": 18,
     "metadata": {},
     "output_type": "execute_result"
    }
   ],
   "source": [
    "def highlight_rows(row):\n",
    "    ijsemvalue = row.loc['PublishedName']\n",
    "    ncbivalue = row.loc['NCBIname']\n",
    "    if ijsemvalue != ncbivalue:\n",
    "        color = '#FFB3BA' # Red\n",
    "    elif ijsemvalue == ncbivalue:\n",
    "        color = '#BAFFC9' # Green\n",
    "    return ['background-color: {}'.format(color) for r in row]\n",
    "\n",
    "new_df = combine_df.style.apply(highlight_rows, axis=1, subset=['PublishedName', 'NCBIname'])\n",
    "new_df"
   ]
  },
  {
   "cell_type": "markdown",
   "id": "5aa05366",
   "metadata": {},
   "source": [
    "### write output to excel"
   ]
  },
  {
   "cell_type": "code",
   "execution_count": 41,
   "id": "fb8948c8",
   "metadata": {},
   "outputs": [],
   "source": [
    "new_df.to_excel(output, engine='xlsxwriter', index = False, na_rep = '') "
   ]
  },
  {
   "cell_type": "code",
   "execution_count": null,
   "id": "3ca925cd",
   "metadata": {},
   "outputs": [],
   "source": [
    "combine_df.dtypes"
   ]
  },
  {
   "cell_type": "code",
   "execution_count": null,
   "id": "652c0d09",
   "metadata": {},
   "outputs": [],
   "source": []
  },
  {
   "cell_type": "code",
   "execution_count": null,
   "id": "b75b8410",
   "metadata": {},
   "outputs": [],
   "source": []
  },
  {
   "cell_type": "code",
   "execution_count": null,
   "id": "8d865873",
   "metadata": {},
   "outputs": [],
   "source": []
  },
  {
   "cell_type": "code",
   "execution_count": null,
   "id": "da2c3095",
   "metadata": {},
   "outputs": [],
   "source": []
  },
  {
   "cell_type": "code",
   "execution_count": null,
   "id": "d3e319d0",
   "metadata": {},
   "outputs": [],
   "source": []
  },
  {
   "cell_type": "code",
   "execution_count": null,
   "id": "12912624",
   "metadata": {},
   "outputs": [],
   "source": []
  },
  {
   "cell_type": "code",
   "execution_count": null,
   "id": "f19f3af8",
   "metadata": {},
   "outputs": [],
   "source": []
  },
  {
   "cell_type": "code",
   "execution_count": null,
   "id": "7380ffa1",
   "metadata": {},
   "outputs": [],
   "source": []
  },
  {
   "cell_type": "code",
   "execution_count": null,
   "id": "7591cab8",
   "metadata": {},
   "outputs": [],
   "source": []
  },
  {
   "cell_type": "code",
   "execution_count": null,
   "id": "88ffd0f6",
   "metadata": {},
   "outputs": [],
   "source": []
  },
  {
   "cell_type": "code",
   "execution_count": null,
   "id": "08a7f93d",
   "metadata": {},
   "outputs": [],
   "source": []
  }
 ],
 "metadata": {
  "kernelspec": {
   "display_name": "Python 3 (ipykernel)",
   "language": "python",
   "name": "python3"
  },
  "language_info": {
   "codemirror_mode": {
    "name": "ipython",
    "version": 3
   },
   "file_extension": ".py",
   "mimetype": "text/x-python",
   "name": "python",
   "nbconvert_exporter": "python",
   "pygments_lexer": "ipython3",
   "version": "3.11.13"
  }
 },
 "nbformat": 4,
 "nbformat_minor": 5
}
